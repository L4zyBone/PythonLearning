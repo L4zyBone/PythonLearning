{
 "cells": [
  {
   "metadata": {},
   "cell_type": "markdown",
   "source": "# 1、完成nan和inf的使用，掌握数组中nan值去除，替换为对应列的平均值",
   "id": "1eb68bf064b84a54"
  },
  {
   "metadata": {
    "ExecuteTime": {
     "end_time": "2025-01-07T13:35:25.731931Z",
     "start_time": "2025-01-07T13:35:25.723710Z"
    }
   },
   "cell_type": "code",
   "source": [
    "import numpy as np\n",
    "t = np.arange(24, dtype=float).reshape(4,6)\n",
    "t[1,3] = np.nan\n",
    "t[2,4] = np.nan\n",
    "t[2,2] = np.nan\n",
    "print(t)\n",
    "for i in range(t.shape[1]): #遍历ndarray\n",
    "    t_col = t[:, i]\n",
    "    nan_count = np.count_nonzero(t_col != t_col) #计算每列中的nan的数量\n",
    "    if nan_count != 0: #如果本列中有nan\n",
    "        t_col_num = t_col[t_col == t_col] #找出列中不是nan的数\n",
    "        # print(t_col_num)\n",
    "        t_col[np.isnan(t_col)] = np.mean(t_col_num) #将nan替换成平均数\n",
    "print(t)"
   ],
   "id": "1eb53c188d2b9adf",
   "outputs": [
    {
     "name": "stdout",
     "output_type": "stream",
     "text": [
      "[[ 0.  1.  2.  3.  4.  5.]\n",
      " [ 6.  7.  8. nan 10. 11.]\n",
      " [12. 13. nan 15. nan 17.]\n",
      " [18. 19. 20. 21. 22. 23.]]\n",
      "[[ 0.  1.  2.  3.  4.  5.]\n",
      " [ 6.  7.  8. 13. 10. 11.]\n",
      " [12. 13. 10. 15. 12. 17.]\n",
      " [18. 19. 20. 21. 22. 23.]]\n"
     ]
    }
   ],
   "execution_count": 19
  },
  {
   "metadata": {
    "ExecuteTime": {
     "end_time": "2025-01-07T13:39:12.289071Z",
     "start_time": "2025-01-07T13:39:12.284476Z"
    }
   },
   "cell_type": "code",
   "source": [
    "print(np.inf == np.inf)\n",
    "print(np.inf)\n",
    "print(np.inf > -np.inf)\n",
    "print(np.nan + 1) # np.nan和任何数据运算的结果都是nan\n",
    "print(np.nan + np.inf)"
   ],
   "id": "146f19ee08a941b2",
   "outputs": [
    {
     "name": "stdout",
     "output_type": "stream",
     "text": [
      "True\n",
      "inf\n",
      "True\n",
      "nan\n",
      "nan\n"
     ]
    }
   ],
   "execution_count": 26
  },
  {
   "metadata": {},
   "cell_type": "markdown",
   "source": "# 2、np二维数组转置练习，轴滚动练习",
   "id": "592ce4a63f95cbb9"
  },
  {
   "metadata": {
    "ExecuteTime": {
     "end_time": "2025-01-07T13:47:00.471784Z",
     "start_time": "2025-01-07T13:47:00.466370Z"
    }
   },
   "cell_type": "code",
   "source": [
    "t2 = np.arange(24, dtype=float).reshape(4,6)\n",
    "print('原数组：')\n",
    "print(t2)\n",
    "print('转置数组：')\n",
    "t3 = np.transpose(t2)\n",
    "print(t3)\n",
    "print('-'*50)\n",
    "print('原数组：')\n",
    "print(t2)\n",
    "print('转置数组：')\n",
    "print(t2.T) # 与transpose效果一致"
   ],
   "id": "886a334145c0d0fe",
   "outputs": [
    {
     "name": "stdout",
     "output_type": "stream",
     "text": [
      "原数组：\n",
      "[[ 0.  1.  2.  3.  4.  5.]\n",
      " [ 6.  7.  8.  9. 10. 11.]\n",
      " [12. 13. 14. 15. 16. 17.]\n",
      " [18. 19. 20. 21. 22. 23.]]\n",
      "转置数组：\n",
      "[[ 0.  6. 12. 18.]\n",
      " [ 1.  7. 13. 19.]\n",
      " [ 2.  8. 14. 20.]\n",
      " [ 3.  9. 15. 21.]\n",
      " [ 4. 10. 16. 22.]\n",
      " [ 5. 11. 17. 23.]]\n",
      "--------------------------------------------------\n",
      "原数组：\n",
      "[[ 0.  1.  2.  3.  4.  5.]\n",
      " [ 6.  7.  8.  9. 10. 11.]\n",
      " [12. 13. 14. 15. 16. 17.]\n",
      " [18. 19. 20. 21. 22. 23.]]\n",
      "转置数组：\n",
      "[[ 0.  6. 12. 18.]\n",
      " [ 1.  7. 13. 19.]\n",
      " [ 2.  8. 14. 20.]\n",
      " [ 3.  9. 15. 21.]\n",
      " [ 4. 10. 16. 22.]\n",
      " [ 5. 11. 17. 23.]]\n"
     ]
    }
   ],
   "execution_count": 38
  },
  {
   "metadata": {
    "ExecuteTime": {
     "end_time": "2025-01-07T13:55:36.941126Z",
     "start_time": "2025-01-07T13:55:36.935944Z"
    }
   },
   "cell_type": "code",
   "source": [
    "t5 = np.arange(24).reshape(4,6)\n",
    "print(t5)\n",
    "rt5 = t5.swapaxes(1,0)\n",
    "print(rt5)"
   ],
   "id": "288d738bb755d2a6",
   "outputs": [
    {
     "name": "stdout",
     "output_type": "stream",
     "text": [
      "[[ 0  1  2  3  4  5]\n",
      " [ 6  7  8  9 10 11]\n",
      " [12 13 14 15 16 17]\n",
      " [18 19 20 21 22 23]]\n",
      "[[ 0  6 12 18]\n",
      " [ 1  7 13 19]\n",
      " [ 2  8 14 20]\n",
      " [ 3  9 15 21]\n",
      " [ 4 10 16 22]\n",
      " [ 5 11 17 23]]\n"
     ]
    }
   ],
   "execution_count": 46
  },
  {
   "metadata": {
    "ExecuteTime": {
     "end_time": "2025-01-07T14:01:39.286088Z",
     "start_time": "2025-01-07T14:01:39.281025Z"
    }
   },
   "cell_type": "code",
   "source": [
    "t6 = np.arange(60).reshape(3, 4, 5)\n",
    "print(t6.shape)\n",
    "t7 = np.swapaxes(t6, 1, 2) #交换1、2轴\n",
    "print(t7.shape)"
   ],
   "id": "cefbe432389810d",
   "outputs": [
    {
     "name": "stdout",
     "output_type": "stream",
     "text": [
      "(3, 4, 5)\n",
      "(3, 5, 4)\n"
     ]
    }
   ],
   "execution_count": 57
  },
  {
   "metadata": {
    "ExecuteTime": {
     "end_time": "2025-01-07T14:06:56.568312Z",
     "start_time": "2025-01-07T14:06:56.563292Z"
    }
   },
   "cell_type": "code",
   "source": [
    "a = np.ones((3, 4, 5, 6))\n",
    "b = np.rollaxis(a, 1, 4) #轴1滚动到轴4之前\n",
    "print(b.shape)\n",
    "c = np.rollaxis(b, 3, 1) #轴3滚动到原先轴1的位置\n",
    "print(c.shape)"
   ],
   "id": "fde953a6f921c314",
   "outputs": [
    {
     "name": "stdout",
     "output_type": "stream",
     "text": [
      "(3, 5, 6, 4)\n",
      "(3, 4, 5, 6)\n"
     ]
    }
   ],
   "execution_count": 63
  },
  {
   "metadata": {},
   "cell_type": "markdown",
   "source": "# 3、练习series和df的索引操作,函数应用",
   "id": "f988ee726bd0327a"
  },
  {
   "metadata": {
    "ExecuteTime": {
     "end_time": "2025-01-07T14:30:08.830095Z",
     "start_time": "2025-01-07T14:30:08.825396Z"
    }
   },
   "cell_type": "code",
   "source": [
    "import pandas as pd\n",
    "\n",
    "# 生成一个Series\n",
    "ser_obj = pd.Series(range(10, 20)) #默认索引是0-9\n",
    "print(ser_obj)#打印输出会带有类型\n",
    "print(ser_obj.index) #输出索引\n",
    "print(ser_obj[0]) #输出索引为0的值"
   ],
   "id": "86547fbf3a546534",
   "outputs": [
    {
     "name": "stdout",
     "output_type": "stream",
     "text": [
      "0    10\n",
      "1    11\n",
      "2    12\n",
      "3    13\n",
      "4    14\n",
      "5    15\n",
      "6    16\n",
      "7    17\n",
      "8    18\n",
      "9    19\n",
      "dtype: int64\n",
      "RangeIndex(start=0, stop=10, step=1)\n",
      "10\n"
     ]
    }
   ],
   "execution_count": 72
  },
  {
   "metadata": {
    "ExecuteTime": {
     "end_time": "2025-01-07T14:30:44.927732Z",
     "start_time": "2025-01-07T14:30:44.917163Z"
    }
   },
   "cell_type": "code",
   "source": [
    "print(ser_obj * 2)  #元素级乘法\n",
    "print(ser_obj > 15) #返回一个bool序列"
   ],
   "id": "4ca21727fbef0f7c",
   "outputs": [
    {
     "name": "stdout",
     "output_type": "stream",
     "text": [
      "0    20\n",
      "1    22\n",
      "2    24\n",
      "3    26\n",
      "4    28\n",
      "5    30\n",
      "6    32\n",
      "7    34\n",
      "8    36\n",
      "9    38\n",
      "dtype: int64\n",
      "0    False\n",
      "1    False\n",
      "2    False\n",
      "3    False\n",
      "4    False\n",
      "5    False\n",
      "6     True\n",
      "7     True\n",
      "8     True\n",
      "9     True\n",
      "dtype: bool\n"
     ]
    }
   ],
   "execution_count": 73
  },
  {
   "metadata": {
    "ExecuteTime": {
     "end_time": "2025-01-07T15:12:55.400554Z",
     "start_time": "2025-01-07T15:12:55.391842Z"
    }
   },
   "cell_type": "code",
   "source": [
    "dict_data = {'A': 1,\n",
    "             'B': pd.Timestamp('20190926'),\n",
    "             'C': pd.Series(1, index=list(range(4)),dtype='float32'),\n",
    "             'D': np.array([1,2,3,4],dtype='int32'),\n",
    "             'E': [\"Python\",\"Java\",\"C++\",\"C\"],\n",
    "             'F': 'wangdao' } #数量不一致时自动补齐\n",
    "df_obj2 = pd.DataFrame(dict_data)\n",
    "print(df_obj2) \n",
    "print(df_obj2.index) #横轴和纵轴都有索引"
   ],
   "id": "ea48ea95db61da2f",
   "outputs": [
    {
     "name": "stdout",
     "output_type": "stream",
     "text": [
      "   A          B    C  D       E        F\n",
      "0  1 2019-09-26  1.0  1  Python  wangdao\n",
      "1  1 2019-09-26  1.0  2    Java  wangdao\n",
      "2  1 2019-09-26  1.0  3     C++  wangdao\n",
      "3  1 2019-09-26  1.0  4       C  wangdao\n",
      "Index([0, 1, 2, 3], dtype='int64')\n"
     ]
    }
   ],
   "execution_count": 91
  },
  {
   "metadata": {
    "ExecuteTime": {
     "end_time": "2025-01-07T14:54:58.682901Z",
     "start_time": "2025-01-07T14:54:58.673247Z"
    }
   },
   "cell_type": "code",
   "source": [
    "ser_obj = pd.Series(range(5), index = list(\"abcde\"))\n",
    "print(ser_obj)\n",
    "print(ser_obj.loc['b']) #索引名\n",
    "print(ser_obj.iloc[2]) #位置索引"
   ],
   "id": "3439511400894fe7",
   "outputs": [
    {
     "name": "stdout",
     "output_type": "stream",
     "text": [
      "a    0\n",
      "b    1\n",
      "c    2\n",
      "d    3\n",
      "e    4\n",
      "dtype: int64\n",
      "1\n",
      "2\n",
      "b    1\n",
      "c    2\n",
      "dtype: int64\n",
      "b    1\n",
      "c    2\n",
      "d    3\n",
      "dtype: int64\n"
     ]
    }
   ],
   "execution_count": 79
  },
  {
   "metadata": {
    "ExecuteTime": {
     "end_time": "2025-01-07T14:55:05.094843Z",
     "start_time": "2025-01-07T14:55:05.089945Z"
    }
   },
   "cell_type": "code",
   "source": [
    "# 切片索引\n",
    "print(ser_obj.iloc[1:3])  #索引位置取数据，左闭右开\n",
    "print(ser_obj.loc['b':'d'])  #记住索引名  左闭右闭"
   ],
   "id": "e72481368ee00e12",
   "outputs": [
    {
     "name": "stdout",
     "output_type": "stream",
     "text": [
      "b    1\n",
      "c    2\n",
      "dtype: int64\n",
      "b    1\n",
      "c    2\n",
      "d    3\n",
      "dtype: int64\n"
     ]
    }
   ],
   "execution_count": 80
  },
  {
   "metadata": {
    "ExecuteTime": {
     "end_time": "2025-01-07T14:56:55.551102Z",
     "start_time": "2025-01-07T14:56:55.543647Z"
    }
   },
   "cell_type": "code",
   "source": [
    "# 不连续索引\n",
    "print(ser_obj.iloc[[0, 2, 4]])\n",
    "print(ser_obj.loc[['a', 'e']])"
   ],
   "id": "156bb28a2862e0c0",
   "outputs": [
    {
     "name": "stdout",
     "output_type": "stream",
     "text": [
      "a    0\n",
      "c    2\n",
      "e    4\n",
      "dtype: int64\n",
      "a    0\n",
      "e    4\n",
      "dtype: int64\n"
     ]
    }
   ],
   "execution_count": 81
  },
  {
   "metadata": {
    "ExecuteTime": {
     "end_time": "2025-01-07T14:57:21.917608Z",
     "start_time": "2025-01-07T14:57:21.911292Z"
    }
   },
   "cell_type": "code",
   "source": [
    "# 布尔索引\n",
    "print(ser_obj)\n",
    "print(ser_obj > 2)"
   ],
   "id": "87dcbac9cf326817",
   "outputs": [
    {
     "name": "stdout",
     "output_type": "stream",
     "text": [
      "a    0\n",
      "b    1\n",
      "c    2\n",
      "d    3\n",
      "e    4\n",
      "dtype: int64\n",
      "a    False\n",
      "b    False\n",
      "c    False\n",
      "d     True\n",
      "e     True\n",
      "dtype: bool\n"
     ]
    }
   ],
   "execution_count": 83
  },
  {
   "metadata": {
    "ExecuteTime": {
     "end_time": "2025-01-07T15:13:21.211697Z",
     "start_time": "2025-01-07T15:13:21.193437Z"
    }
   },
   "cell_type": "code",
   "source": [
    "# DataFrame\n",
    "df_obj = pd.DataFrame(np.random.randn(5,4),\n",
    "                      columns = list('abcd'),\n",
    "                      index=list('abcde'))\n",
    "print(df_obj)\n",
    "print('-'*50)\n",
    "print(df_obj['a'])  #建议不用,拿的是列\n",
    "print('-'*50)\n",
    "print(df_obj.loc['a'])  #拿的是行\n",
    "print('-'*50)"
   ],
   "id": "6ca0e62762ae3a23",
   "outputs": [
    {
     "name": "stdout",
     "output_type": "stream",
     "text": [
      "          a         b         c         d\n",
      "a -0.203683 -0.204164  0.715020  1.171813\n",
      "b -0.658924 -0.978993 -0.527293  2.285449\n",
      "c  0.431893 -0.562826  1.487857  1.849048\n",
      "d -0.345676  0.374863 -0.676084  0.879236\n",
      "e  0.511436 -1.586973  0.770975  0.840487\n",
      "--------------------------------------------------\n",
      "a   -0.203683\n",
      "b   -0.658924\n",
      "c    0.431893\n",
      "d   -0.345676\n",
      "e    0.511436\n",
      "Name: a, dtype: float64\n",
      "--------------------------------------------------\n",
      "a   -0.203683\n",
      "b   -0.204164\n",
      "c    0.715020\n",
      "d    1.171813\n",
      "Name: a, dtype: float64\n",
      "--------------------------------------------------\n",
      "          b         c         d\n",
      "a -0.204164  0.715020  1.171813\n",
      "b -0.978993 -0.527293  2.285449\n",
      "c -0.562826  1.487857  1.849048\n",
      "          b         d\n",
      "a -0.204164  1.171813\n",
      "c -0.562826  1.849048\n",
      "          b\n",
      "c -0.562826\n",
      "-0.5628262502530105\n"
     ]
    }
   ],
   "execution_count": 93
  },
  {
   "metadata": {
    "ExecuteTime": {
     "end_time": "2025-01-07T15:13:29.182246Z",
     "start_time": "2025-01-07T15:13:29.171207Z"
    }
   },
   "cell_type": "code",
   "source": [
    "# 第一个参数索引行，第二个参数是列,loc或者iloc效率高于直接用取下标的方式，前闭后闭\n",
    "print(df_obj.loc['a':'c', 'b':'d']) #连续索引\n",
    "print(df_obj.loc[['a','c'], ['b','d']]) #不连续索引\n",
    "print(df_obj.loc[['c'],['b']]) #取一个值,返回的是DataFrame类型\n",
    "print(df_obj.loc['c','b'])  #取一个值"
   ],
   "id": "6e9b46af4833eda9",
   "outputs": [
    {
     "name": "stdout",
     "output_type": "stream",
     "text": [
      "          b         c         d\n",
      "a -0.204164  0.715020  1.171813\n",
      "b -0.978993 -0.527293  2.285449\n",
      "c -0.562826  1.487857  1.849048\n",
      "          b         d\n",
      "a -0.204164  1.171813\n",
      "c -0.562826  1.849048\n",
      "          b\n",
      "c -0.562826\n",
      "-0.5628262502530105\n"
     ]
    }
   ],
   "execution_count": 94
  },
  {
   "metadata": {
    "ExecuteTime": {
     "end_time": "2025-01-07T15:13:55.069371Z",
     "start_time": "2025-01-07T15:13:55.060225Z"
    }
   },
   "cell_type": "code",
   "source": [
    "s1 = pd.Series(range(10, 20), index = range(10))\n",
    "s2 = pd.Series(range(20, 25), index = range(5))\n",
    "# Series 对齐运算\n",
    "print('s1+s2: ')\n",
    "s3=s1+s2\n",
    "print(s3)  #缺失数据默认是NaN  np.nan"
   ],
   "id": "9dbdc04ce25f1362",
   "outputs": [
    {
     "name": "stdout",
     "output_type": "stream",
     "text": [
      "s1+s2: \n",
      "0    30.0\n",
      "1    32.0\n",
      "2    34.0\n",
      "3    36.0\n",
      "4    38.0\n",
      "5     NaN\n",
      "6     NaN\n",
      "7     NaN\n",
      "8     NaN\n",
      "9     NaN\n",
      "dtype: float64\n"
     ]
    }
   ],
   "execution_count": 95
  },
  {
   "metadata": {
    "ExecuteTime": {
     "end_time": "2025-01-07T15:15:45.171384Z",
     "start_time": "2025-01-07T15:15:45.166372Z"
    }
   },
   "cell_type": "code",
   "source": [
    "#两个长度不同的一维ndarray相加\n",
    "a1 = np.array([1,2,3,4,5])\n",
    "a2 = np.array([1]) # 长度为1\n",
    "print(a2.shape)\n",
    "print(a1+a2)"
   ],
   "id": "59ce31362fc511e1",
   "outputs": [
    {
     "name": "stdout",
     "output_type": "stream",
     "text": [
      "(1,)\n",
      "[2 3 4 5 6]\n"
     ]
    }
   ],
   "execution_count": 96
  },
  {
   "metadata": {
    "ExecuteTime": {
     "end_time": "2025-01-07T15:16:01.526516Z",
     "start_time": "2025-01-07T15:16:01.519997Z"
    }
   },
   "cell_type": "code",
   "source": [
    "print(s2)\n",
    "s1"
   ],
   "id": "4b01a37b04a2eb5d",
   "outputs": [
    {
     "name": "stdout",
     "output_type": "stream",
     "text": [
      "0    20\n",
      "1    21\n",
      "2    22\n",
      "3    23\n",
      "4    24\n",
      "dtype: int64\n"
     ]
    },
    {
     "data": {
      "text/plain": [
       "0    10\n",
       "1    11\n",
       "2    12\n",
       "3    13\n",
       "4    14\n",
       "5    15\n",
       "6    16\n",
       "7    17\n",
       "8    18\n",
       "9    19\n",
       "dtype: int64"
      ]
     },
     "execution_count": 97,
     "metadata": {},
     "output_type": "execute_result"
    }
   ],
   "execution_count": 97
  },
  {
   "metadata": {
    "ExecuteTime": {
     "end_time": "2025-01-07T15:18:15.878475Z",
     "start_time": "2025-01-07T15:18:15.866417Z"
    }
   },
   "cell_type": "code",
   "source": [
    "print(np.isnan(s3[6]))\n",
    "print('-'*50)\n",
    "print(s2.add(s1, fill_value = 0))  #未对齐的数据将和填充值做运算\n",
    "print(s2.sub(s1, fill_value = 0))"
   ],
   "id": "870095a664b2eb49",
   "outputs": [
    {
     "name": "stdout",
     "output_type": "stream",
     "text": [
      "True\n",
      "--------------------------------------------------\n",
      "0    30.0\n",
      "1    32.0\n",
      "2    34.0\n",
      "3    36.0\n",
      "4    38.0\n",
      "5    15.0\n",
      "6    16.0\n",
      "7    17.0\n",
      "8    18.0\n",
      "9    19.0\n",
      "dtype: float64\n",
      "0    10.0\n",
      "1    10.0\n",
      "2    10.0\n",
      "3    10.0\n",
      "4    10.0\n",
      "5   -15.0\n",
      "6   -16.0\n",
      "7   -17.0\n",
      "8   -18.0\n",
      "9   -19.0\n",
      "dtype: float64\n"
     ]
    }
   ],
   "execution_count": 98
  },
  {
   "metadata": {
    "ExecuteTime": {
     "end_time": "2025-01-07T15:26:36.803201Z",
     "start_time": "2025-01-07T15:26:36.794071Z"
    }
   },
   "cell_type": "code",
   "source": [
    "# Numpy ufunc 函数，randn跟的是维数\n",
    "df = pd.DataFrame(np.random.randn(5,4) - 1)\n",
    "print(df)\n",
    "\n",
    "print(np.abs(df)) #绝对值"
   ],
   "id": "6c68c55192491bd0",
   "outputs": [
    {
     "name": "stdout",
     "output_type": "stream",
     "text": [
      "          0         1         2         3\n",
      "0 -2.005126  0.437498  1.622695 -2.447832\n",
      "1 -1.198749 -1.220654 -1.481485 -2.335602\n",
      "2 -0.884284 -0.679044 -0.042632 -0.375469\n",
      "3 -0.443523  0.238447 -1.541976  0.201897\n",
      "4 -1.416943 -1.698187 -1.620370 -1.871959\n",
      "          0         1         2         3\n",
      "0  2.005126  0.437498  1.622695  2.447832\n",
      "1  1.198749  1.220654  1.481485  2.335602\n",
      "2  0.884284  0.679044  0.042632  0.375469\n",
      "3  0.443523  0.238447  1.541976  0.201897\n",
      "4  1.416943  1.698187  1.620370  1.871959\n"
     ]
    }
   ],
   "execution_count": 99
  },
  {
   "metadata": {
    "ExecuteTime": {
     "end_time": "2025-01-07T15:29:51.099070Z",
     "start_time": "2025-01-07T15:29:51.093671Z"
    }
   },
   "cell_type": "code",
   "source": [
    "#apply默认作用在列上,x是每一列,因为axis=0\n",
    "print(df.apply(lambda x : x.max()))"
   ],
   "id": "256c88f7c9349f7a",
   "outputs": [
    {
     "name": "stdout",
     "output_type": "stream",
     "text": [
      "0   -0.443523\n",
      "1    0.437498\n",
      "2    1.622695\n",
      "3    0.201897\n",
      "dtype: float64\n"
     ]
    }
   ],
   "execution_count": 100
  },
  {
   "metadata": {},
   "cell_type": "markdown",
   "source": "# 4、练习处理缺失数据，统计与计算",
   "id": "6954a2c074c29430"
  },
  {
   "metadata": {
    "ExecuteTime": {
     "end_time": "2025-01-07T15:40:18.713934Z",
     "start_time": "2025-01-07T15:40:18.707419Z"
    }
   },
   "cell_type": "code",
   "source": [
    "df_data = pd.DataFrame([np.random.randn(3), [1., 2., np.nan],\n",
    "                       [np.nan, 4., np.nan], [1., 2., 3.]])\n",
    "print(df_data.head())"
   ],
   "id": "e8e0e5fe68798c99",
   "outputs": [
    {
     "name": "stdout",
     "output_type": "stream",
     "text": [
      "          0        1         2\n",
      "0  1.310843 -0.45195  1.802445\n",
      "1  1.000000  2.00000       NaN\n",
      "2       NaN  4.00000       NaN\n",
      "3  1.000000  2.00000  3.000000\n"
     ]
    }
   ],
   "execution_count": 128
  },
  {
   "metadata": {
    "ExecuteTime": {
     "end_time": "2025-01-07T15:30:21.951233Z",
     "start_time": "2025-01-07T15:30:21.945212Z"
    }
   },
   "cell_type": "code",
   "source": [
    "#isnull来判断是否有空的数据\n",
    "print(df_data.isnull())"
   ],
   "id": "527f7aaa675e8c7f",
   "outputs": [
    {
     "name": "stdout",
     "output_type": "stream",
     "text": [
      "       0      1      2\n",
      "0  False  False  False\n",
      "1  False  False   True\n",
      "2   True  False   True\n",
      "3  False  False  False\n"
     ]
    }
   ],
   "execution_count": 102
  },
  {
   "metadata": {
    "ExecuteTime": {
     "end_time": "2025-01-07T15:39:35.024853Z",
     "start_time": "2025-01-07T15:39:35.018997Z"
    }
   },
   "cell_type": "code",
   "source": [
    "# 计算缺失率\n",
    "print(df_data.isnull().sum()/len(df_data))"
   ],
   "id": "2a6e85be77a6c128",
   "outputs": [
    {
     "name": "stdout",
     "output_type": "stream",
     "text": [
      "0    0.0\n",
      "1    0.0\n",
      "2    0.0\n",
      "dtype: float64\n"
     ]
    }
   ],
   "execution_count": 117
  },
  {
   "metadata": {
    "ExecuteTime": {
     "end_time": "2025-01-07T15:39:56.535928Z",
     "start_time": "2025-01-07T15:39:56.527508Z"
    }
   },
   "cell_type": "code",
   "source": [
    "#给零列的空值填为-100，按特征（按列）去填充\n",
    "print(df_data.iloc[:,0].fillna(-100.))\n",
    "df_data"
   ],
   "id": "d90780cd7a519ad4",
   "outputs": [
    {
     "name": "stdout",
     "output_type": "stream",
     "text": [
      "0     -0.041889\n",
      "1      1.000000\n",
      "2   -100.000000\n",
      "3      1.000000\n",
      "Name: 0, dtype: float64\n"
     ]
    },
    {
     "data": {
      "text/plain": [
       "          0         1         2\n",
       "0 -0.041889  0.456095  0.100038\n",
       "1  1.000000  2.000000  1.550019\n",
       "2       NaN  4.000000  1.550019\n",
       "3  1.000000  2.000000  3.000000"
      ],
      "text/html": [
       "<div>\n",
       "<style scoped>\n",
       "    .dataframe tbody tr th:only-of-type {\n",
       "        vertical-align: middle;\n",
       "    }\n",
       "\n",
       "    .dataframe tbody tr th {\n",
       "        vertical-align: top;\n",
       "    }\n",
       "\n",
       "    .dataframe thead th {\n",
       "        text-align: right;\n",
       "    }\n",
       "</style>\n",
       "<table border=\"1\" class=\"dataframe\">\n",
       "  <thead>\n",
       "    <tr style=\"text-align: right;\">\n",
       "      <th></th>\n",
       "      <th>0</th>\n",
       "      <th>1</th>\n",
       "      <th>2</th>\n",
       "    </tr>\n",
       "  </thead>\n",
       "  <tbody>\n",
       "    <tr>\n",
       "      <th>0</th>\n",
       "      <td>-0.041889</td>\n",
       "      <td>0.456095</td>\n",
       "      <td>0.100038</td>\n",
       "    </tr>\n",
       "    <tr>\n",
       "      <th>1</th>\n",
       "      <td>1.000000</td>\n",
       "      <td>2.000000</td>\n",
       "      <td>1.550019</td>\n",
       "    </tr>\n",
       "    <tr>\n",
       "      <th>2</th>\n",
       "      <td>NaN</td>\n",
       "      <td>4.000000</td>\n",
       "      <td>1.550019</td>\n",
       "    </tr>\n",
       "    <tr>\n",
       "      <th>3</th>\n",
       "      <td>1.000000</td>\n",
       "      <td>2.000000</td>\n",
       "      <td>3.000000</td>\n",
       "    </tr>\n",
       "  </tbody>\n",
       "</table>\n",
       "</div>"
      ]
     },
     "execution_count": 122,
     "metadata": {},
     "output_type": "execute_result"
    }
   ],
   "execution_count": 122
  },
  {
   "metadata": {
    "ExecuteTime": {
     "end_time": "2025-01-07T15:40:06.563955Z",
     "start_time": "2025-01-07T15:40:06.558952Z"
    }
   },
   "cell_type": "code",
   "source": [
    "#依次拿到每一列\n",
    "for i in df_data.columns:\n",
    "    print(df_data.loc[:,i])"
   ],
   "id": "546609538e1489ae",
   "outputs": [
    {
     "name": "stdout",
     "output_type": "stream",
     "text": [
      "0   -0.041889\n",
      "1    1.000000\n",
      "2         NaN\n",
      "3    1.000000\n",
      "Name: 0, dtype: float64\n",
      "0    0.456095\n",
      "1    2.000000\n",
      "2    4.000000\n",
      "3    2.000000\n",
      "Name: 1, dtype: float64\n",
      "0    0.100038\n",
      "1    1.550019\n",
      "2    1.550019\n",
      "3    3.000000\n",
      "Name: 2, dtype: float64\n"
     ]
    }
   ],
   "execution_count": 125
  },
  {
   "metadata": {
    "ExecuteTime": {
     "end_time": "2025-01-07T15:41:14.078037Z",
     "start_time": "2025-01-07T15:41:14.068883Z"
    }
   },
   "cell_type": "code",
   "source": [
    "df_data.iloc[:,0]=df_data.iloc[:,0].fillna(-100.) #第0列，用-100填充nan\n",
    "df_data.iloc[:,2]=df_data.iloc[:,2].fillna(df_data.iloc[:,2].mean()) #用均值填充空值\n",
    "df_data"
   ],
   "id": "50639d7d292f281b",
   "outputs": [
    {
     "data": {
      "text/plain": [
       "            0        1         2\n",
       "0    1.310843 -0.45195  1.802445\n",
       "1    1.000000  2.00000  2.401223\n",
       "2 -100.000000  4.00000  2.401223\n",
       "3    1.000000  2.00000  3.000000"
      ],
      "text/html": [
       "<div>\n",
       "<style scoped>\n",
       "    .dataframe tbody tr th:only-of-type {\n",
       "        vertical-align: middle;\n",
       "    }\n",
       "\n",
       "    .dataframe tbody tr th {\n",
       "        vertical-align: top;\n",
       "    }\n",
       "\n",
       "    .dataframe thead th {\n",
       "        text-align: right;\n",
       "    }\n",
       "</style>\n",
       "<table border=\"1\" class=\"dataframe\">\n",
       "  <thead>\n",
       "    <tr style=\"text-align: right;\">\n",
       "      <th></th>\n",
       "      <th>0</th>\n",
       "      <th>1</th>\n",
       "      <th>2</th>\n",
       "    </tr>\n",
       "  </thead>\n",
       "  <tbody>\n",
       "    <tr>\n",
       "      <th>0</th>\n",
       "      <td>1.310843</td>\n",
       "      <td>-0.45195</td>\n",
       "      <td>1.802445</td>\n",
       "    </tr>\n",
       "    <tr>\n",
       "      <th>1</th>\n",
       "      <td>1.000000</td>\n",
       "      <td>2.00000</td>\n",
       "      <td>2.401223</td>\n",
       "    </tr>\n",
       "    <tr>\n",
       "      <th>2</th>\n",
       "      <td>-100.000000</td>\n",
       "      <td>4.00000</td>\n",
       "      <td>2.401223</td>\n",
       "    </tr>\n",
       "    <tr>\n",
       "      <th>3</th>\n",
       "      <td>1.000000</td>\n",
       "      <td>2.00000</td>\n",
       "      <td>3.000000</td>\n",
       "    </tr>\n",
       "  </tbody>\n",
       "</table>\n",
       "</div>"
      ]
     },
     "execution_count": 132,
     "metadata": {},
     "output_type": "execute_result"
    }
   ],
   "execution_count": 132
  }
 ],
 "metadata": {
  "kernelspec": {
   "display_name": "Python 3",
   "language": "python",
   "name": "python3"
  },
  "language_info": {
   "codemirror_mode": {
    "name": "ipython",
    "version": 2
   },
   "file_extension": ".py",
   "mimetype": "text/x-python",
   "name": "python",
   "nbconvert_exporter": "python",
   "pygments_lexer": "ipython2",
   "version": "2.7.6"
  }
 },
 "nbformat": 4,
 "nbformat_minor": 5
}
