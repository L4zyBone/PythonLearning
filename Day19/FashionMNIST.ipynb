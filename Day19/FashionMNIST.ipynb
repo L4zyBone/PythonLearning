{
 "cells": [
  {
   "cell_type": "code",
   "id": "initial_id",
   "metadata": {
    "collapsed": true,
    "ExecuteTime": {
     "end_time": "2025-01-15T14:24:29.948506Z",
     "start_time": "2025-01-15T14:24:22.732376Z"
    }
   },
   "source": [
    "import matplotlib as mpl\n",
    "import matplotlib.pyplot as plt\n",
    "%matplotlib inline\n",
    "import numpy as np\n",
    "import sklearn\n",
    "import pandas as pd\n",
    "import os\n",
    "import sys\n",
    "import time\n",
    "from tqdm.auto import tqdm\n",
    "import torch\n",
    "import torch.nn as nn\n",
    "import torch.nn.functional as F\n",
    "\n",
    "print(sys.version_info)\n",
    "for module in mpl, np, pd, sklearn, torch:\n",
    "    print(module.__name__, module.__version__)\n",
    "    \n",
    "device = torch.device(\"cuda:0\") if torch.cuda.is_available() else torch.device(\"cpu\")\n",
    "print(device)"
   ],
   "outputs": [
    {
     "name": "stdout",
     "output_type": "stream",
     "text": [
      "sys.version_info(major=3, minor=12, micro=3, releaselevel='final', serial=0)\n",
      "matplotlib 3.10.0\n",
      "numpy 2.2.1\n",
      "pandas 2.2.3\n",
      "sklearn 1.6.0\n",
      "torch 2.5.1+cpu\n",
      "cpu\n"
     ]
    }
   ],
   "execution_count": 2
  },
  {
   "metadata": {
    "ExecuteTime": {
     "end_time": "2025-01-15T14:25:26.392812Z",
     "start_time": "2025-01-15T14:25:26.318983Z"
    }
   },
   "cell_type": "code",
   "source": [
    "from torchvision import datasets\n",
    "from torchvision.transforms import ToTensor\n",
    "from torchvision import transforms\n",
    "\n",
    "\n",
    "# 定义数据集的变换\n",
    "transform = transforms.Compose([\n",
    "])\n",
    "# fashion_mnist图像分类数据集，衣服分类，60000张训练图片，10000张测试图片\n",
    "train_ds = datasets.FashionMNIST(\n",
    "    root=\"../data\",\n",
    "    train=True,\n",
    "    download=True,\n",
    "    transform=transform\n",
    ")\n",
    "\n",
    "test_ds = datasets.FashionMNIST(\n",
    "    root=\"../data\",\n",
    "    train=False,\n",
    "    download=True,\n",
    "    transform=transform\n",
    ")\n",
    "\n",
    "# torchvision 数据集里没有提供训练集和验证集的划分\n",
    "# 当然也可以用 torch.utils.data.Dataset 实现人为划分"
   ],
   "id": "f465052d399d31a9",
   "outputs": [],
   "execution_count": 4
  },
  {
   "metadata": {
    "ExecuteTime": {
     "end_time": "2025-01-15T14:26:04.338163Z",
     "start_time": "2025-01-15T14:26:04.332832Z"
    }
   },
   "cell_type": "code",
   "source": "type(train_ds)",
   "id": "1d397f9eaa907dee",
   "outputs": [
    {
     "data": {
      "text/plain": [
       "torchvision.datasets.mnist.FashionMNIST"
      ]
     },
     "execution_count": 5,
     "metadata": {},
     "output_type": "execute_result"
    }
   ],
   "execution_count": 5
  },
  {
   "metadata": {
    "ExecuteTime": {
     "end_time": "2025-01-15T14:26:13.455038Z",
     "start_time": "2025-01-15T14:26:13.448817Z"
    }
   },
   "cell_type": "code",
   "source": "len(train_ds)",
   "id": "a33cf94a67ff41f6",
   "outputs": [
    {
     "data": {
      "text/plain": [
       "60000"
      ]
     },
     "execution_count": 6,
     "metadata": {},
     "output_type": "execute_result"
    }
   ],
   "execution_count": 6
  },
  {
   "metadata": {
    "ExecuteTime": {
     "end_time": "2025-01-15T14:26:19.037919Z",
     "start_time": "2025-01-15T14:26:19.031894Z"
    }
   },
   "cell_type": "code",
   "source": "type(train_ds[0])",
   "id": "12c3509a15c2015c",
   "outputs": [
    {
     "data": {
      "text/plain": [
       "tuple"
      ]
     },
     "execution_count": 7,
     "metadata": {},
     "output_type": "execute_result"
    }
   ],
   "execution_count": 7
  },
  {
   "metadata": {
    "ExecuteTime": {
     "end_time": "2025-01-15T14:26:27.346573Z",
     "start_time": "2025-01-15T14:26:27.342762Z"
    }
   },
   "cell_type": "code",
   "source": [
    "# 通过id取数据，取到的是一个元祖,是第一个样本,在训练时，把特征和标签分开\n",
    "img, label = train_ds[0]"
   ],
   "id": "79e237fcc6df115e",
   "outputs": [],
   "execution_count": 9
  },
  {
   "metadata": {
    "ExecuteTime": {
     "end_time": "2025-01-15T14:26:32.081894Z",
     "start_time": "2025-01-15T14:26:32.075894Z"
    }
   },
   "cell_type": "code",
   "source": "type(img) #tensor中文是 张量,和numpy的ndarray类似",
   "id": "1021dd7535dc8dea",
   "outputs": [
    {
     "data": {
      "text/plain": [
       "PIL.Image.Image"
      ]
     },
     "execution_count": 10,
     "metadata": {},
     "output_type": "execute_result"
    }
   ],
   "execution_count": 10
  },
  {
   "metadata": {
    "ExecuteTime": {
     "end_time": "2025-01-15T14:28:04.752176Z",
     "start_time": "2025-01-15T14:28:04.746389Z"
    }
   },
   "cell_type": "code",
   "source": "label",
   "id": "9b8cf6211b888c53",
   "outputs": [
    {
     "data": {
      "text/plain": [
       "9"
      ]
     },
     "execution_count": 15,
     "metadata": {},
     "output_type": "execute_result"
    }
   ],
   "execution_count": 15
  },
  {
   "metadata": {
    "ExecuteTime": {
     "end_time": "2025-01-15T14:26:45.191723Z",
     "start_time": "2025-01-15T14:26:45.152184Z"
    }
   },
   "cell_type": "code",
   "source": "img",
   "id": "c5d96a2e03032369",
   "outputs": [
    {
     "data": {
      "text/plain": [
       "<PIL.Image.Image image mode=L size=28x28>"
      ],
      "image/png": "[encoded data removed]",
      "image/jpeg": "[encoded data removed]"
     },
     "execution_count": 11,
     "metadata": {},
     "output_type": "execute_result"
    }
   ],
   "execution_count": 11
  },
  {
   "metadata": {
    "ExecuteTime": {
     "end_time": "2025-01-15T14:27:39.817943Z",
     "start_time": "2025-01-15T14:27:39.812594Z"
    }
   },
   "cell_type": "code",
   "source": [
    "def show_img_content(img):\n",
    "    from PIL import Image\n",
    "\n",
    "    # 打开一个图像文件\n",
    "    # img = Image.open(img)\n",
    "\n",
    "\n",
    "    print(\"图像大小:\", img.size)\n",
    "    print(\"图像模式:\", img.mode)\n",
    "\n",
    "\n",
    "    # 如果图像是单通道的，比如灰度图，你可以这样获取像素值列表：\n",
    "    if img.mode == 'L':\n",
    "        pixel_values = list(img.getdata())\n",
    "        print(pixel_values)\n",
    "show_img_content(img) "
   ],
   "id": "9b9d201bb52d1617",
   "outputs": [
    {
     "name": "stdout",
     "output_type": "stream",
     "text": [
      "图像大小: (28, 28)\n",
      "图像模式: L\n",
      "[0, 0, 0, 0, 0, 0, 0, 0, 0, 0, 0, 0, 0, 0, 0, 0, 0, 0, 0, 0, 0, 0, 0, 0, 0, 0, 0, 0, 0, 0, 0, 0, 0, 0, 0, 0, 0, 0, 0, 0, 0, 0, 0, 0, 0, 0, 0, 0, 0, 0, 0, 0, 0, 0, 0, 0, 0, 0, 0, 0, 0, 0, 0, 0, 0, 0, 0, 0, 0, 0, 0, 0, 0, 0, 0, 0, 0, 0, 0, 0, 0, 0, 0, 0, 0, 0, 0, 0, 0, 0, 0, 0, 0, 0, 0, 0, 1, 0, 0, 13, 73, 0, 0, 1, 4, 0, 0, 0, 0, 1, 1, 0, 0, 0, 0, 0, 0, 0, 0, 0, 0, 0, 0, 0, 3, 0, 36, 136, 127, 62, 54, 0, 0, 0, 1, 3, 4, 0, 0, 3, 0, 0, 0, 0, 0, 0, 0, 0, 0, 0, 0, 0, 6, 0, 102, 204, 176, 134, 144, 123, 23, 0, 0, 0, 0, 12, 10, 0, 0, 0, 0, 0, 0, 0, 0, 0, 0, 0, 0, 0, 0, 0, 155, 236, 207, 178, 107, 156, 161, 109, 64, 23, 77, 130, 72, 15, 0, 0, 0, 0, 0, 0, 0, 0, 0, 0, 0, 1, 0, 69, 207, 223, 218, 216, 216, 163, 127, 121, 122, 146, 141, 88, 172, 66, 0, 0, 0, 0, 0, 0, 0, 0, 0, 1, 1, 1, 0, 200, 232, 232, 233, 229, 223, 223, 215, 213, 164, 127, 123, 196, 229, 0, 0, 0, 0, 0, 0, 0, 0, 0, 0, 0, 0, 0, 0, 183, 225, 216, 223, 228, 235, 227, 224, 222, 224, 221, 223, 245, 173, 0, 0, 0, 0, 0, 0, 0, 0, 0, 0, 0, 0, 0, 0, 193, 228, 218, 213, 198, 180, 212, 210, 211, 213, 223, 220, 243, 202, 0, 0, 0, 0, 0, 0, 0, 0, 0, 0, 1, 3, 0, 12, 219, 220, 212, 218, 192, 169, 227, 208, 218, 224, 212, 226, 197, 209, 52, 0, 0, 0, 0, 0, 0, 0, 0, 0, 0, 6, 0, 99, 244, 222, 220, 218, 203, 198, 221, 215, 213, 222, 220, 245, 119, 167, 56, 0, 0, 0, 0, 0, 0, 0, 0, 0, 4, 0, 0, 55, 236, 228, 230, 228, 240, 232, 213, 218, 223, 234, 217, 217, 209, 92, 0, 0, 0, 1, 4, 6, 7, 2, 0, 0, 0, 0, 0, 237, 226, 217, 223, 222, 219, 222, 221, 216, 223, 229, 215, 218, 255, 77, 0, 0, 3, 0, 0, 0, 0, 0, 0, 0, 62, 145, 204, 228, 207, 213, 221, 218, 208, 211, 218, 224, 223, 219, 215, 224, 244, 159, 0, 0, 0, 0, 0, 18, 44, 82, 107, 189, 228, 220, 222, 217, 226, 200, 205, 211, 230, 224, 234, 176, 188, 250, 248, 233, 238, 215, 0, 0, 57, 187, 208, 224, 221, 224, 208, 204, 214, 208, 209, 200, 159, 245, 193, 206, 223, 255, 255, 221, 234, 221, 211, 220, 232, 246, 0, 3, 202, 228, 224, 221, 211, 211, 214, 205, 205, 205, 220, 240, 80, 150, 255, 229, 221, 188, 154, 191, 210, 204, 209, 222, 228, 225, 0, 98, 233, 198, 210, 222, 229, 229, 234, 249, 220, 194, 215, 217, 241, 65, 73, 106, 117, 168, 219, 221, 215, 217, 223, 223, 224, 229, 29, 75, 204, 212, 204, 193, 205, 211, 225, 216, 185, 197, 206, 198, 213, 240, 195, 227, 245, 239, 223, 218, 212, 209, 222, 220, 221, 230, 67, 48, 203, 183, 194, 213, 197, 185, 190, 194, 192, 202, 214, 219, 221, 220, 236, 225, 216, 199, 206, 186, 181, 177, 172, 181, 205, 206, 115, 0, 122, 219, 193, 179, 171, 183, 196, 204, 210, 213, 207, 211, 210, 200, 196, 194, 191, 195, 191, 198, 192, 176, 156, 167, 177, 210, 92, 0, 0, 74, 189, 212, 191, 175, 172, 175, 181, 185, 188, 189, 188, 193, 198, 204, 209, 210, 210, 211, 188, 188, 194, 192, 216, 170, 0, 2, 0, 0, 0, 66, 200, 222, 237, 239, 242, 246, 243, 244, 221, 220, 193, 191, 179, 182, 182, 181, 176, 166, 168, 99, 58, 0, 0, 0, 0, 0, 0, 0, 0, 0, 40, 61, 44, 72, 41, 35, 0, 0, 0, 0, 0, 0, 0, 0, 0, 0, 0, 0, 0, 0, 0, 0, 0, 0, 0, 0, 0, 0, 0, 0, 0, 0, 0, 0, 0, 0, 0, 0, 0, 0, 0, 0, 0, 0, 0, 0, 0, 0, 0, 0, 0, 0, 0, 0, 0, 0, 0, 0, 0, 0, 0, 0, 0, 0, 0, 0, 0, 0, 0, 0, 0, 0, 0, 0, 0, 0, 0]\n"
     ]
    }
   ],
   "execution_count": 14
  },
  {
   "metadata": {
    "ExecuteTime": {
     "end_time": "2025-01-15T14:28:28.548092Z",
     "start_time": "2025-01-15T14:28:28.376733Z"
    }
   },
   "cell_type": "code",
   "source": [
    "#这个代码必须是注释了上面的 transforms.ToTensor()才能够运行的\n",
    "def show_single_image(img_arr):\n",
    "    plt.imshow(img_arr, cmap=\"binary\") # 显示图片\n",
    "    plt.colorbar() # 显示颜色条\n",
    "    plt.show()\n",
    "\n",
    "\n",
    "show_single_image(img)"
   ],
   "id": "3c5bade82447b9a3",
   "outputs": [
    {
     "data": {
      "text/plain": [
       "<Figure size 640x480 with 2 Axes>"
      ],
      "image/png": "[encoded data removed]"
     },
     "metadata": {},
     "output_type": "display_data"
    }
   ],
   "execution_count": 16
  },
  {
   "metadata": {
    "ExecuteTime": {
     "end_time": "2025-01-15T14:29:39.749534Z",
     "start_time": "2025-01-15T14:29:39.687171Z"
    }
   },
   "cell_type": "code",
   "source": [
    "from torchvision import datasets\n",
    "from torchvision.transforms import ToTensor\n",
    "from torchvision import transforms\n",
    "\n",
    "\n",
    "# 定义数据集的变换\n",
    "transform = transforms.Compose([\n",
    "    transforms.ToTensor(), # 转换为tensor，进行归一化\n",
    "    # transforms.Normalize(mean, std) # 标准化，mean和std是数据集的均值和方差\n",
    "])\n",
    "# fashion_mnist图像分类数据集，衣服分类，60000张训练图片，10000张测试图片\n",
    "train_ds = datasets.FashionMNIST(\n",
    "    root=\"../data\",\n",
    "    train=True,\n",
    "    download=True,\n",
    "    transform=transform\n",
    ")\n",
    "\n",
    "test_ds = datasets.FashionMNIST(\n",
    "    root=\"../data\",\n",
    "    train=False,\n",
    "    download=True,\n",
    "    transform=transform\n",
    ")\n",
    "\n",
    "# torchvision 数据集里没有提供训练集和验证集的划分\n",
    "# 当然也可以用 torch.utils.data.Dataset 实现人为划分"
   ],
   "id": "a5af16d349590d14",
   "outputs": [],
   "execution_count": 18
  },
  {
   "metadata": {
    "ExecuteTime": {
     "end_time": "2025-01-15T14:32:23.447264Z",
     "start_time": "2025-01-15T14:32:23.426180Z"
    }
   },
   "cell_type": "code",
   "source": [
    "img, label = train_ds[0]\n",
    "img.shape  #img这时是一个tensor，shape=(1, 28, 28)"
   ],
   "id": "e59917333916739a",
   "outputs": [
    {
     "data": {
      "text/plain": [
       "torch.Size([1, 28, 28])"
      ]
     },
     "execution_count": 19,
     "metadata": {},
     "output_type": "execute_result"
    }
   ],
   "execution_count": 19
  },
  {
   "metadata": {
    "ExecuteTime": {
     "end_time": "2025-01-15T14:32:41.320615Z",
     "start_time": "2025-01-15T14:32:31.849384Z"
    }
   },
   "cell_type": "code",
   "source": [
    "#计算均值和方差\n",
    "def cal_mean_std(ds):\n",
    "    mean = 0.\n",
    "    std = 0.\n",
    "    for img, _ in ds:  # 遍历每张图片,img.shape=[1,28,28]\n",
    "        mean += img.mean(dim=(1, 2))  # 计算每张图片的均值，dim=(1, 2)表示计算每张图片的每一个像素的均值,行列共同求均值\n",
    "        std += img.std(dim=(1, 2))\n",
    "    mean /= len(ds)\n",
    "    std /= len(ds)\n",
    "    return mean, std\n",
    "\n",
    "\n",
    "print(cal_mean_std(train_ds))"
   ],
   "id": "989a4ca2cfe29317",
   "outputs": [
    {
     "name": "stdout",
     "output_type": "stream",
     "text": [
      "(tensor([0.2860]), tensor([0.3205]))\n"
     ]
    }
   ],
   "execution_count": 20
  },
  {
   "metadata": {
    "ExecuteTime": {
     "end_time": "2025-01-15T14:32:59.944806Z",
     "start_time": "2025-01-15T14:32:59.343064Z"
    }
   },
   "cell_type": "code",
   "source": [
    "def show_imgs(n_rows, n_cols, train_ds, class_names):\n",
    "    assert n_rows * n_cols < len(train_ds)  #确保打印的图片小于总样本数\n",
    "    plt.figure(figsize = (n_cols * 1.4, n_rows * 1.6))  #宽1.4高1.6，宽，高\n",
    "    for row in range(n_rows):\n",
    "        for col in range(n_cols):\n",
    "            index = n_cols * row + col  # 计算索引，从0开始\n",
    "            plt.subplot(n_rows, n_cols, index+1)#因为从1开始\n",
    "            img_arr, label = train_ds[index]\n",
    "            img_arr = np.transpose(img_arr, (1, 2, 0))  # 通道换到最后一维\n",
    "            plt.imshow(img_arr, cmap=\"binary\",\n",
    "                       interpolation = 'nearest')#interpolation='nearest'是临近插值\n",
    "            plt.axis('off')#去除坐标系\n",
    "            plt.title(class_names[label]) # 显示类别名称\n",
    "    plt.show()\n",
    "    \n",
    "    \n",
    "\n",
    "#已知的图片类别\n",
    "# lables在这个路径https://github.com/zalandoresearch/fashion-mnist\n",
    "class_names = ['T-shirt', 'Trouser', 'Pullover', 'Dress',\n",
    "               'Coat', 'Sandal', 'Shirt', 'Sneaker',\n",
    "               'Bag', 'Ankle boot'] #0-9分别代表的类别\n",
    "#只是打印了前15个样本\n",
    "show_imgs(3, 5, train_ds, class_names)\n"
   ],
   "id": "32a599ba30075c22",
   "outputs": [
    {
     "data": {
      "text/plain": [
       "<Figure size 700x480 with 15 Axes>"
      ],
      "image/png": "[encoded data removed]"
     },
     "metadata": {},
     "output_type": "display_data"
    }
   ],
   "execution_count": 21
  },
  {
   "metadata": {
    "ExecuteTime": {
     "end_time": "2025-01-15T14:33:17.473349Z",
     "start_time": "2025-01-15T14:33:17.469405Z"
    }
   },
   "cell_type": "code",
   "source": [
    "# 从数据集到dataloader\n",
    "train_loader = torch.utils.data.DataLoader(train_ds, batch_size=32, shuffle=True) #batch_size分批，shuffle洗牌\n",
    "val_loader = torch.utils.data.DataLoader(test_ds, batch_size=32, shuffle=False)"
   ],
   "id": "8e14419cfd78d0a6",
   "outputs": [],
   "execution_count": 22
  },
  {
   "metadata": {
    "ExecuteTime": {
     "end_time": "2025-01-15T14:33:26.863866Z",
     "start_time": "2025-01-15T14:33:26.823767Z"
    }
   },
   "cell_type": "code",
   "source": [
    "for datas, labels in train_loader:\n",
    "    print(datas.shape)\n",
    "    print(labels.shape)\n",
    "    break\n",
    "#查看val_loader\n",
    "for datas, labels in val_loader:\n",
    "    print(datas.shape)\n",
    "    print(labels.shape)\n",
    "    break"
   ],
   "id": "d598a48a7277af74",
   "outputs": [
    {
     "name": "stdout",
     "output_type": "stream",
     "text": [
      "torch.Size([32, 1, 28, 28])\n",
      "torch.Size([32])\n",
      "torch.Size([32, 1, 28, 28])\n",
      "torch.Size([32])\n"
     ]
    }
   ],
   "execution_count": 23
  },
  {
   "metadata": {
    "ExecuteTime": {
     "end_time": "2025-01-15T14:36:44.007092Z",
     "start_time": "2025-01-15T14:36:43.995222Z"
    }
   },
   "cell_type": "code",
   "source": [
    "class NeuralNetwork(nn.Module):\n",
    "    def __init__(self):\n",
    "        super().__init__() # 继承父类的初始化方法，子类有父类的属性\n",
    "        self.flatten = nn.Flatten()  # 展平层\n",
    "        self.linear_relu_stack = nn.Sequential(\n",
    "            nn.Linear(784, 300),  # in_features=784, out_features=300, 784是输入特征数，300是输出特征数\n",
    "            nn.ReLU(), # 激活函数\n",
    "            nn.Linear(300, 100),#隐藏层神经元数100\n",
    "            nn.ReLU(), # 激活函数\n",
    "            nn.Linear(100, 10),#输出层神经元数10 \n",
    "        )\n",
    "\n",
    "    def forward(self, x): # 前向计算，前向传播\n",
    "        # x.shape [batch size, 1, 28, 28],1是通道数\n",
    "        x = self.flatten(x)  \n",
    "        # print(f'x.shape--{x.shape}')\n",
    "        # 展平后 x.shape [batch size, 784]\n",
    "        logits = self.linear_relu_stack(x)\n",
    "        # logits.shape [batch size, 10]\n",
    "        return logits #没有经过softmax,称为logits\n",
    "    \n",
    "model = NeuralNetwork()"
   ],
   "id": "13b79c2e8ad1b0a2",
   "outputs": [],
   "execution_count": 24
  },
  {
   "metadata": {
    "ExecuteTime": {
     "end_time": "2025-01-15T14:38:17.780471Z",
     "start_time": "2025-01-15T14:38:17.774962Z"
    }
   },
   "cell_type": "code",
   "source": [
    "# 看看网络结构\n",
    "model"
   ],
   "id": "4ed3ae9ec9c47958",
   "outputs": [
    {
     "data": {
      "text/plain": [
       "NeuralNetwork(\n",
       "  (flatten): Flatten(start_dim=1, end_dim=-1)\n",
       "  (linear_relu_stack): Sequential(\n",
       "    (0): Linear(in_features=784, out_features=300, bias=True)\n",
       "    (1): ReLU()\n",
       "    (2): Linear(in_features=300, out_features=100, bias=True)\n",
       "    (3): ReLU()\n",
       "    (4): Linear(in_features=100, out_features=10, bias=True)\n",
       "  )\n",
       ")"
      ]
     },
     "execution_count": 25,
     "metadata": {},
     "output_type": "execute_result"
    }
   ],
   "execution_count": 25
  },
  {
   "metadata": {
    "ExecuteTime": {
     "end_time": "2025-01-15T14:38:23.812657Z",
     "start_time": "2025-01-15T14:38:23.779454Z"
    }
   },
   "cell_type": "code",
   "source": [
    "#为了查看模型运算的tensor尺寸\n",
    "x = torch.randn(32, 1, 28, 28)\n",
    "print(x.shape)\n",
    "logits = model(x)\n",
    "print(logits.shape)"
   ],
   "id": "4bad9f595d96a825",
   "outputs": [
    {
     "name": "stdout",
     "output_type": "stream",
     "text": [
      "torch.Size([32, 1, 28, 28])\n",
      "torch.Size([32, 10])\n"
     ]
    }
   ],
   "execution_count": 26
  },
  {
   "metadata": {
    "ExecuteTime": {
     "end_time": "2025-01-15T14:38:29.479255Z",
     "start_time": "2025-01-15T14:38:29.474988Z"
    }
   },
   "cell_type": "code",
   "source": [
    "for name, param in model.named_parameters(): # 打印模型参数\n",
    "      print(name, param.shape)"
   ],
   "id": "18ffd9bc59e11b48",
   "outputs": [
    {
     "name": "stdout",
     "output_type": "stream",
     "text": [
      "linear_relu_stack.0.weight torch.Size([300, 784])\n",
      "linear_relu_stack.0.bias torch.Size([300])\n",
      "linear_relu_stack.2.weight torch.Size([100, 300])\n",
      "linear_relu_stack.2.bias torch.Size([100])\n",
      "linear_relu_stack.4.weight torch.Size([10, 100])\n",
      "linear_relu_stack.4.bias torch.Size([10])\n"
     ]
    }
   ],
   "execution_count": 27
  },
  {
   "metadata": {
    "ExecuteTime": {
     "end_time": "2025-01-15T14:38:35.580287Z",
     "start_time": "2025-01-15T14:38:35.554726Z"
    }
   },
   "cell_type": "code",
   "source": [
    "# 看看模型参数\n",
    "list(model.parameters())  # 这种方法拿到模型的所有可学习参数,requires_grad=True"
   ],
   "id": "3733822544fe4494",
   "outputs": [
    {
     "data": {
      "text/plain": [
       "[Parameter containing:\n",
       " tensor([[ 0.0262,  0.0112,  0.0269,  ..., -0.0287,  0.0234, -0.0300],\n",
       "         [ 0.0313, -0.0144, -0.0086,  ...,  0.0264,  0.0319, -0.0262],\n",
       "         [ 0.0320, -0.0059, -0.0145,  ...,  0.0292,  0.0348,  0.0165],\n",
       "         ...,\n",
       "         [-0.0086, -0.0126,  0.0123,  ...,  0.0074, -0.0026,  0.0252],\n",
       "         [-0.0255, -0.0198,  0.0116,  ...,  0.0002, -0.0082, -0.0139],\n",
       "         [-0.0108, -0.0265, -0.0094,  ...,  0.0151,  0.0072, -0.0230]],\n",
       "        requires_grad=True),\n",
       " Parameter containing:\n",
       " tensor([ 1.5231e-02, -6.4314e-03, -2.8581e-02,  3.2470e-02, -1.0794e-02,\n",
       "          3.0244e-02,  2.1358e-02,  2.0996e-02,  1.9482e-02, -3.0587e-02,\n",
       "         -1.6309e-02, -1.9232e-02,  2.8954e-02,  2.7777e-03, -2.1997e-02,\n",
       "          1.5737e-03, -3.1464e-03, -1.5819e-03,  2.8350e-02,  1.4031e-02,\n",
       "          1.8700e-02, -3.2403e-02, -2.9745e-03, -1.7944e-02, -3.3235e-02,\n",
       "          9.5688e-03,  2.5478e-02,  3.2844e-03, -3.3639e-02,  1.2768e-02,\n",
       "          3.3963e-02,  3.0536e-02,  2.5343e-02, -1.6529e-02, -1.3123e-02,\n",
       "         -3.4339e-03, -2.7013e-02,  1.2706e-02,  2.9760e-02,  9.6571e-03,\n",
       "          5.2151e-03,  1.7767e-02,  1.0302e-02, -2.3882e-02,  2.4763e-02,\n",
       "          1.3346e-02, -8.0016e-03, -3.3273e-02, -2.7397e-02, -1.1165e-02,\n",
       "          1.4956e-02,  1.1092e-02,  4.5087e-03, -2.7289e-02,  8.5015e-03,\n",
       "         -2.8646e-02, -7.6680e-04, -3.5010e-02, -6.3176e-04, -1.5895e-02,\n",
       "          1.6175e-02,  2.7099e-02,  2.3557e-02,  1.5722e-02, -2.0351e-04,\n",
       "         -2.4243e-02,  2.1710e-02,  1.8345e-02,  1.2583e-02, -2.4221e-03,\n",
       "          4.8818e-03, -2.7975e-02,  3.2693e-02,  3.0162e-02,  2.0196e-02,\n",
       "         -9.1021e-03, -3.4302e-02, -1.9172e-02, -3.3460e-02,  1.6075e-02,\n",
       "          9.6167e-03, -2.8705e-04,  1.4734e-02,  9.0872e-03, -2.0966e-02,\n",
       "          4.2562e-04,  9.2949e-03, -2.6892e-02,  3.1790e-03, -2.3887e-02,\n",
       "          3.9484e-03, -2.2950e-02,  2.2094e-02,  2.7885e-02, -1.8983e-02,\n",
       "         -3.3705e-03, -1.6756e-02, -3.1160e-02,  3.7315e-03,  2.8702e-02,\n",
       "          2.4332e-02, -2.5585e-02,  1.8781e-02,  1.1898e-02, -5.8960e-03,\n",
       "         -7.1434e-04,  1.1839e-02, -3.0024e-02, -1.2192e-02, -1.2215e-02,\n",
       "         -1.7824e-02,  2.7617e-03,  2.4971e-02, -1.9604e-02, -3.2160e-02,\n",
       "         -2.9017e-02,  6.2817e-04, -3.0282e-02, -2.9030e-02,  3.5657e-02,\n",
       "          2.9689e-02,  2.1055e-02, -1.0957e-02, -2.8314e-02, -1.3155e-02,\n",
       "         -2.9937e-03,  2.9743e-02, -2.9055e-02,  3.2802e-02, -3.4049e-02,\n",
       "         -3.1061e-02, -1.5053e-02, -3.5618e-02,  2.8590e-02, -2.9116e-02,\n",
       "          1.5072e-02,  4.2181e-03, -1.4980e-02, -3.0524e-02, -1.2011e-02,\n",
       "         -3.5578e-02,  2.7330e-02,  8.1716e-03,  2.7676e-02,  3.4461e-02,\n",
       "          2.3657e-02, -8.0485e-05,  3.0622e-02,  3.4537e-02,  3.0999e-02,\n",
       "          2.5790e-02,  7.3382e-04,  1.0906e-02,  1.2333e-02, -1.6655e-02,\n",
       "          4.1883e-03, -4.3583e-03,  3.4405e-04, -8.6069e-03,  3.6362e-03,\n",
       "         -1.8382e-02, -1.4096e-02, -3.4600e-02, -3.0024e-02,  1.8364e-02,\n",
       "          4.0139e-03,  5.9893e-03, -2.4305e-02, -1.2380e-02, -2.0097e-02,\n",
       "          3.5494e-02, -6.4861e-03,  2.7980e-02, -3.2534e-02, -1.8519e-02,\n",
       "          6.9510e-03, -7.9647e-03, -1.0696e-02, -1.8230e-02, -2.7077e-02,\n",
       "          3.4816e-02, -2.1183e-02,  3.4634e-02,  6.7782e-03, -3.2700e-02,\n",
       "         -9.2126e-03, -1.5780e-02, -3.5181e-02,  3.4332e-02, -1.5347e-02,\n",
       "         -3.1068e-02,  1.3433e-02, -2.2782e-02, -2.0267e-02,  3.2279e-02,\n",
       "         -3.3427e-02, -9.2627e-04,  8.7667e-03, -2.1663e-02,  2.3774e-02,\n",
       "          3.4700e-03,  3.2689e-02, -8.7821e-03, -9.0292e-03, -1.8273e-02,\n",
       "          1.8520e-02,  2.6813e-02, -1.3084e-03,  1.5280e-02,  8.8108e-03,\n",
       "          2.5951e-02, -1.2118e-02, -2.7331e-02, -3.9617e-04,  4.1983e-03,\n",
       "          5.5008e-05,  7.6679e-03, -6.9333e-03, -5.7409e-03, -1.1090e-02,\n",
       "          6.1362e-03,  1.0836e-02, -3.1460e-02, -4.1051e-03, -3.1212e-02,\n",
       "          2.0304e-02,  4.1046e-03,  1.7600e-02,  7.7326e-03, -1.1553e-02,\n",
       "          1.1449e-02,  3.1274e-02,  5.0710e-03,  1.3432e-02,  2.2306e-02,\n",
       "          1.1826e-02,  3.4301e-03, -1.6379e-02,  2.6695e-03, -2.0798e-02,\n",
       "          3.6833e-03, -2.1302e-02,  3.2917e-02,  2.9652e-02, -2.7632e-02,\n",
       "         -3.3922e-02,  8.7807e-03,  3.4930e-02,  3.2365e-02,  1.9635e-02,\n",
       "          2.7025e-02,  5.5467e-03,  1.2271e-02, -1.9203e-03, -2.2772e-02,\n",
       "         -2.3213e-02,  2.2122e-02,  2.6663e-02,  2.2155e-02,  3.0727e-02,\n",
       "          2.4058e-03,  9.7756e-03, -2.2714e-02,  2.8286e-02,  1.5066e-03,\n",
       "         -1.1820e-02,  4.4993e-03, -6.7447e-03, -2.1584e-02,  1.6170e-02,\n",
       "         -2.8540e-02,  2.9651e-02,  2.3128e-02,  2.6530e-02,  1.8386e-02,\n",
       "         -1.9239e-02, -3.5032e-02, -1.4074e-02,  4.2959e-03,  2.4251e-02,\n",
       "         -3.0909e-02,  3.5053e-02,  3.1795e-02, -1.8111e-02,  2.2681e-02,\n",
       "         -1.5690e-02,  4.5881e-03,  2.9949e-02,  7.3217e-03, -3.2548e-02,\n",
       "         -2.1844e-02,  1.0444e-02,  2.1196e-02,  1.8229e-02, -2.0029e-02,\n",
       "         -2.3074e-02, -2.8611e-02, -2.6714e-02, -1.9830e-02, -1.9030e-02],\n",
       "        requires_grad=True),\n",
       " Parameter containing:\n",
       " tensor([[-0.0504, -0.0054,  0.0204,  ..., -0.0243, -0.0387,  0.0366],\n",
       "         [ 0.0188, -0.0497, -0.0538,  ..., -0.0161, -0.0332, -0.0047],\n",
       "         [ 0.0180, -0.0535,  0.0499,  ...,  0.0391, -0.0270, -0.0058],\n",
       "         ...,\n",
       "         [-0.0512,  0.0439,  0.0455,  ...,  0.0398,  0.0354, -0.0295],\n",
       "         [-0.0010,  0.0417, -0.0163,  ...,  0.0369,  0.0471,  0.0378],\n",
       "         [-0.0226,  0.0479,  0.0396,  ..., -0.0020, -0.0158,  0.0174]],\n",
       "        requires_grad=True),\n",
       " Parameter containing:\n",
       " tensor([-0.0051, -0.0563,  0.0057, -0.0350,  0.0487,  0.0473, -0.0009, -0.0469,\n",
       "          0.0316, -0.0143, -0.0577,  0.0167,  0.0146, -0.0083, -0.0139, -0.0564,\n",
       "          0.0091,  0.0351,  0.0156, -0.0172, -0.0319, -0.0287,  0.0190, -0.0192,\n",
       "          0.0500, -0.0218, -0.0129, -0.0341, -0.0514, -0.0289,  0.0026, -0.0043,\n",
       "         -0.0215, -0.0264,  0.0079, -0.0111, -0.0282,  0.0110,  0.0346, -0.0484,\n",
       "          0.0458,  0.0317, -0.0368,  0.0506,  0.0382, -0.0504,  0.0449, -0.0456,\n",
       "         -0.0256,  0.0316,  0.0241,  0.0102,  0.0429,  0.0081,  0.0340, -0.0129,\n",
       "          0.0178, -0.0437,  0.0240, -0.0002,  0.0418,  0.0299, -0.0034,  0.0302,\n",
       "         -0.0485,  0.0411, -0.0502,  0.0006, -0.0495,  0.0559,  0.0430, -0.0407,\n",
       "          0.0129,  0.0035, -0.0172, -0.0399,  0.0373,  0.0336, -0.0354,  0.0333,\n",
       "          0.0100,  0.0299,  0.0516,  0.0004,  0.0436,  0.0481, -0.0027, -0.0440,\n",
       "          0.0221, -0.0113,  0.0497,  0.0239,  0.0076, -0.0325,  0.0445,  0.0152,\n",
       "          0.0530, -0.0070,  0.0243, -0.0183], requires_grad=True),\n",
       " Parameter containing:\n",
       " tensor([[-2.6406e-02, -2.8690e-02,  4.7141e-02, -3.3394e-03, -3.5085e-03,\n",
       "           3.2236e-02, -8.9030e-02,  4.1744e-02,  3.9711e-02, -3.7573e-02,\n",
       "           9.9415e-02, -5.5088e-02,  8.8483e-02, -8.4402e-02,  7.9923e-02,\n",
       "          -2.1637e-02, -4.2609e-02,  8.5062e-02, -9.7340e-02, -2.5692e-02,\n",
       "          -4.6017e-02,  5.2163e-02, -3.9984e-03, -1.9550e-02,  2.2618e-03,\n",
       "           2.3344e-02, -5.2591e-02,  8.2460e-02,  9.5116e-02, -3.2078e-02,\n",
       "           3.9225e-02,  5.4763e-02, -3.5739e-02, -3.3647e-02,  9.3594e-02,\n",
       "          -9.2070e-02,  4.5853e-02,  1.3900e-02,  4.4532e-02, -2.3793e-02,\n",
       "           3.7598e-02, -6.1712e-02, -5.2864e-02,  4.0815e-03, -9.5736e-02,\n",
       "          -8.9139e-03,  6.9733e-02,  5.5832e-02, -6.6220e-02,  3.8971e-02,\n",
       "          -9.5344e-04,  6.7991e-02,  8.3934e-02, -6.1142e-02,  7.8045e-02,\n",
       "           6.3383e-02, -3.0320e-02,  6.5893e-02, -2.1461e-02,  5.5690e-02,\n",
       "           7.4327e-02,  3.5850e-02, -7.2543e-02, -4.2196e-02, -1.7700e-02,\n",
       "          -1.7526e-02, -5.4200e-02, -6.6773e-02,  2.8829e-02, -5.3438e-02,\n",
       "          -3.4445e-02, -8.6601e-03,  6.1228e-02, -7.4018e-03,  5.1038e-02,\n",
       "          -1.1178e-02,  4.3918e-02, -1.7579e-02, -6.5969e-02, -4.3236e-02,\n",
       "          -7.4727e-02, -3.5715e-02, -6.5731e-02, -3.4604e-02, -1.1570e-02,\n",
       "           9.0074e-02, -2.0975e-02, -8.8848e-02,  6.8216e-02, -2.5079e-02,\n",
       "          -2.9382e-02,  3.6154e-02,  8.3735e-02,  5.7339e-02,  8.2980e-02,\n",
       "           5.7775e-02, -1.1392e-02, -8.3021e-02,  8.2072e-02,  1.7377e-02],\n",
       "         [ 6.4594e-02, -2.7123e-02, -2.7117e-02, -2.2326e-02,  6.9424e-02,\n",
       "          -1.0064e-02, -5.7854e-02, -7.8648e-02, -8.1052e-02, -5.4109e-02,\n",
       "           8.8708e-02,  8.4708e-03, -4.9349e-02,  5.6626e-02, -3.9533e-02,\n",
       "           2.8515e-02, -4.5878e-02,  3.1630e-02,  9.6637e-02,  2.1753e-02,\n",
       "           4.0065e-03,  3.2423e-02,  4.3745e-02, -4.5089e-02, -7.7423e-02,\n",
       "           3.1121e-02,  2.7513e-02,  9.9619e-02,  5.6608e-02, -9.4751e-02,\n",
       "          -7.1510e-02,  7.9472e-02, -6.0555e-02,  8.6352e-02, -4.2106e-03,\n",
       "          -7.2961e-02,  1.5135e-02,  2.8530e-02,  5.1911e-02,  2.9678e-02,\n",
       "           8.2318e-02, -2.0276e-02,  3.2066e-02,  3.6073e-03, -3.0706e-02,\n",
       "          -1.6997e-02, -8.3393e-02, -6.7719e-02, -7.5977e-02,  6.1784e-03,\n",
       "          -2.1593e-02, -3.6329e-02, -4.0658e-02, -9.0611e-02, -5.9463e-02,\n",
       "           4.9258e-02,  9.4342e-02,  2.1593e-02,  7.7153e-02, -4.2805e-03,\n",
       "           4.3896e-02,  1.3824e-03,  4.9791e-02, -8.2506e-02,  4.7395e-02,\n",
       "          -9.6932e-02, -2.7745e-02,  9.1651e-02, -7.1317e-02,  3.2005e-03,\n",
       "          -6.3183e-03,  6.2048e-02,  4.6756e-02, -9.7273e-02,  2.3578e-03,\n",
       "           2.5286e-02,  6.0633e-02, -2.9247e-02, -6.4121e-02, -3.0373e-02,\n",
       "          -5.5516e-02,  3.2404e-02, -6.4125e-02,  1.6553e-02, -7.8408e-02,\n",
       "          -2.4496e-02, -2.0623e-02,  7.2809e-02, -1.9262e-02, -6.2987e-03,\n",
       "          -9.6126e-02, -2.7573e-02, -9.9820e-02,  1.4834e-02, -2.9680e-02,\n",
       "           2.8520e-02,  8.7418e-02, -8.1106e-02, -7.7668e-02,  4.6254e-02],\n",
       "         [ 8.1634e-02, -7.4331e-02,  3.2697e-02,  3.9066e-02, -7.5515e-02,\n",
       "          -6.6654e-02,  4.1235e-02, -9.7322e-02, -5.7773e-02, -1.5480e-02,\n",
       "           7.4080e-02, -7.7861e-02, -8.8860e-03,  3.2552e-02, -3.2719e-02,\n",
       "           2.5861e-02, -3.0523e-02,  1.4694e-04,  2.4423e-02, -6.4546e-02,\n",
       "           2.5517e-04,  2.2145e-02, -3.8343e-02,  4.6716e-02,  8.0906e-02,\n",
       "          -9.4983e-02, -3.3458e-02, -7.7796e-02,  8.6477e-03,  2.1310e-02,\n",
       "           5.1949e-02,  3.0145e-02, -8.6688e-02, -4.5024e-02,  1.0388e-02,\n",
       "          -4.5604e-02,  5.0894e-02, -5.0677e-02, -5.6919e-02, -2.2889e-03,\n",
       "           8.4463e-02,  9.6709e-02, -4.2227e-02, -7.8110e-02,  2.6486e-02,\n",
       "           6.6041e-02,  7.0782e-02, -8.1805e-02, -1.6708e-03,  6.4776e-02,\n",
       "           6.4588e-02,  6.8622e-02, -4.2289e-02, -3.1195e-02,  3.7971e-02,\n",
       "           9.3179e-03, -1.4833e-02, -5.0347e-02, -4.6313e-03, -2.7613e-02,\n",
       "           7.1282e-02,  4.7319e-02, -2.5070e-02,  4.0049e-02,  8.5252e-02,\n",
       "          -9.9553e-03, -7.7098e-02, -2.5582e-02, -5.7867e-02, -4.5945e-02,\n",
       "          -4.3779e-02, -9.1200e-04,  1.3988e-02, -3.7714e-02, -5.2473e-02,\n",
       "           1.1834e-02, -8.7466e-02, -9.5950e-02, -5.0037e-03,  3.2850e-02,\n",
       "          -1.1310e-02, -9.2701e-03, -1.9259e-02, -8.7992e-02, -7.9647e-02,\n",
       "          -9.0306e-03, -7.3905e-02,  6.9924e-02, -3.9292e-02,  6.2762e-03,\n",
       "          -8.9642e-02, -6.0889e-02,  1.8908e-02,  9.5365e-02, -1.0837e-03,\n",
       "           5.1208e-02,  6.5697e-03, -8.2268e-02, -5.5331e-02, -1.9991e-02],\n",
       "         [ 1.1466e-02, -6.2646e-02, -6.5048e-02,  5.6726e-02,  9.8972e-02,\n",
       "           1.3701e-02, -2.1436e-02,  3.3924e-02,  7.5356e-02, -2.7489e-02,\n",
       "           4.7795e-02, -1.0819e-02,  8.1150e-02,  1.2639e-02, -9.2619e-02,\n",
       "          -2.2754e-02, -5.9474e-02, -5.4104e-03, -8.8053e-02, -2.3178e-02,\n",
       "           7.4893e-02,  8.8586e-02,  2.1727e-02, -3.8082e-02,  2.2670e-02,\n",
       "           7.3179e-02,  7.9070e-02, -3.2000e-02,  7.7407e-02, -5.1453e-02,\n",
       "          -7.3589e-02, -1.2728e-02,  1.7387e-02, -8.5232e-02,  2.8398e-02,\n",
       "          -3.2602e-02, -3.0376e-02,  8.2982e-04, -6.3431e-02, -4.1399e-02,\n",
       "          -1.2509e-02,  7.6436e-02,  3.7541e-02,  9.9158e-02, -6.5096e-02,\n",
       "           2.9164e-02, -2.8358e-02, -4.6333e-02,  3.6720e-03,  8.8103e-02,\n",
       "           8.5080e-02, -2.3610e-02, -3.4948e-02,  1.7052e-02,  5.4671e-02,\n",
       "          -9.0572e-02, -6.6936e-02, -6.0465e-02, -1.0382e-02, -6.4128e-02,\n",
       "          -8.8870e-03,  8.0900e-02,  6.3417e-02,  5.7930e-02, -6.1999e-02,\n",
       "          -1.1531e-02,  7.3312e-02, -9.1908e-02, -1.4055e-02,  2.4345e-02,\n",
       "           6.8420e-02,  8.3243e-02, -5.0195e-02,  9.3785e-02,  6.8407e-02,\n",
       "           3.2975e-02,  8.9067e-02,  2.7341e-02, -6.3306e-02,  1.6952e-02,\n",
       "          -6.1950e-02, -5.1678e-02,  9.9463e-03,  5.1986e-03, -4.6962e-02,\n",
       "          -3.7009e-02,  3.1612e-02, -9.0053e-02,  4.2752e-02, -7.7951e-03,\n",
       "           5.5891e-02, -1.8538e-02, -4.6009e-02,  4.8623e-02, -8.3035e-02,\n",
       "          -2.5034e-02, -5.2263e-02, -9.1253e-02,  2.4610e-03, -3.0860e-02],\n",
       "         [ 6.7071e-02,  9.2782e-03, -9.3164e-02, -9.4123e-02,  8.1320e-02,\n",
       "           6.3166e-02,  7.0312e-02,  2.7799e-02, -2.8057e-02,  4.5148e-02,\n",
       "          -5.9144e-02, -9.1013e-03, -6.0182e-02, -2.6812e-02, -4.5341e-02,\n",
       "           5.9401e-02, -6.5506e-02,  6.9421e-02,  4.3150e-02,  2.3887e-02,\n",
       "          -1.0815e-02, -5.0406e-03,  7.8209e-02,  4.6662e-02, -5.0552e-02,\n",
       "          -8.0643e-02, -4.8087e-02,  6.5599e-02, -4.1908e-02, -9.4405e-02,\n",
       "           3.3408e-02, -9.0466e-02, -7.7487e-02, -6.3397e-02,  1.8997e-02,\n",
       "           5.3498e-02,  6.0182e-02, -1.8083e-02,  4.4143e-02, -9.9915e-02,\n",
       "          -7.6103e-02,  3.9414e-03,  2.4545e-02,  1.7678e-03,  8.3161e-03,\n",
       "           2.2094e-02, -8.1040e-02,  6.4463e-02,  9.2245e-02,  5.2261e-02,\n",
       "           5.3465e-02,  2.4677e-03, -6.8493e-02,  8.0005e-02, -6.9850e-02,\n",
       "          -8.1141e-02, -3.3657e-02,  8.1823e-02, -9.2479e-02, -2.4505e-02,\n",
       "           3.4508e-02, -3.5711e-02,  6.4841e-02,  8.4751e-02,  8.5209e-03,\n",
       "           2.9731e-03,  9.2238e-02,  3.8561e-02,  1.2304e-02,  6.9219e-02,\n",
       "          -1.1425e-03, -6.3437e-02, -8.6848e-02,  8.0595e-03,  2.2466e-02,\n",
       "           1.7704e-02,  2.4290e-02, -8.2296e-02, -8.1884e-02,  6.5245e-02,\n",
       "          -9.9134e-04,  9.7807e-04,  5.8496e-02,  2.3742e-02,  3.4484e-02,\n",
       "           7.3806e-02, -4.9126e-02, -1.1127e-02,  7.7897e-02,  5.6656e-02,\n",
       "          -6.3542e-02,  4.1399e-04,  9.1947e-02,  8.4064e-02,  8.7514e-02,\n",
       "           1.6751e-02,  2.3424e-02,  8.8851e-03,  2.4623e-02, -1.1321e-02],\n",
       "         [-7.6240e-02,  4.8407e-02,  9.3965e-02, -7.0144e-02,  4.0336e-03,\n",
       "           1.1391e-02, -7.5681e-02, -3.1197e-02, -1.9576e-02, -3.7413e-02,\n",
       "           7.6895e-02,  5.6695e-02,  8.1117e-02,  4.7680e-02, -8.7570e-02,\n",
       "           3.2356e-02, -1.7533e-02, -6.6350e-02, -4.9844e-02, -3.4087e-02,\n",
       "          -6.4431e-03, -4.0245e-02,  4.6798e-02,  6.2248e-02,  5.5351e-02,\n",
       "           8.5232e-02,  3.9504e-02, -9.3058e-02,  5.4441e-02,  2.3062e-02,\n",
       "           2.2042e-02,  9.7926e-02,  5.8529e-03, -4.2981e-02, -5.4654e-02,\n",
       "          -7.4679e-03,  7.9058e-02,  1.2569e-02, -5.2306e-02, -3.2863e-03,\n",
       "           4.5902e-02,  3.2727e-02, -9.5567e-02, -8.2530e-02,  5.1552e-02,\n",
       "           2.3067e-02, -7.3283e-02, -9.2533e-02,  6.4518e-04,  1.1898e-02,\n",
       "           5.2154e-02,  8.8181e-02,  6.0549e-02, -2.9544e-02,  6.0252e-02,\n",
       "           8.3747e-02,  4.8805e-02, -2.9955e-02,  2.2967e-02, -6.9339e-02,\n",
       "           9.2487e-02, -6.7914e-02, -5.4228e-02, -4.7573e-02, -5.4248e-02,\n",
       "           4.3989e-02,  4.4874e-02, -9.5946e-02,  3.9424e-02,  3.6721e-02,\n",
       "           9.2233e-02,  3.3452e-02,  3.1116e-02, -7.2318e-02,  2.2323e-02,\n",
       "          -9.3597e-02, -7.4998e-02,  6.7112e-02, -7.2485e-02, -3.0364e-02,\n",
       "           9.9284e-02, -3.8130e-02, -4.5516e-02,  8.5613e-02,  8.8592e-02,\n",
       "          -5.5494e-02,  8.0679e-02,  3.0443e-02,  3.0915e-02,  3.3901e-02,\n",
       "           1.1765e-02, -9.4342e-02,  6.8919e-02, -3.8233e-02, -7.5640e-02,\n",
       "          -7.9379e-02, -6.5924e-02, -4.9862e-02,  2.8962e-02,  5.3944e-02],\n",
       "         [ 9.7715e-02, -3.2718e-03,  4.6290e-02, -7.6070e-03,  2.6300e-02,\n",
       "          -6.9997e-02,  7.4876e-02, -5.2593e-02,  5.6153e-02, -1.1329e-02,\n",
       "          -6.9731e-03,  4.5024e-02, -3.2474e-02,  1.5237e-03, -3.5091e-02,\n",
       "          -4.5927e-02, -8.5216e-02, -3.3846e-02, -7.6651e-02,  4.7019e-02,\n",
       "          -1.3413e-02,  7.3331e-02,  1.2866e-02,  4.7743e-02,  9.1143e-02,\n",
       "           1.0456e-02,  9.5606e-02, -7.0530e-02,  8.0567e-03,  3.5401e-02,\n",
       "          -7.9938e-02,  3.0217e-02, -5.5692e-03,  7.3845e-02,  1.1260e-02,\n",
       "           3.6183e-02, -6.3667e-02,  3.8467e-02,  9.8657e-03,  9.2040e-03,\n",
       "           3.4426e-02,  9.0501e-02,  1.3363e-02,  1.2831e-02, -9.8633e-03,\n",
       "          -6.3209e-02,  4.0590e-02, -2.1337e-02, -5.2302e-02,  8.2155e-02,\n",
       "           7.8299e-02, -8.2396e-02, -3.7451e-02,  7.9200e-02,  6.1263e-02,\n",
       "           4.5722e-02,  4.2486e-02,  8.5781e-02,  3.4088e-02, -9.8664e-02,\n",
       "           5.0066e-02, -8.4264e-02,  2.3793e-03,  8.8626e-02, -3.6647e-02,\n",
       "          -8.4527e-02,  9.2560e-02, -1.8841e-02,  3.0496e-02,  6.2560e-02,\n",
       "           5.6809e-02,  8.3218e-02,  7.5807e-02,  9.1735e-02,  1.9501e-02,\n",
       "           8.9326e-02, -1.1117e-02, -3.7608e-02, -5.4254e-02, -5.1641e-02,\n",
       "          -6.5888e-02,  7.5427e-02,  3.3650e-02, -8.1386e-02, -3.6392e-02,\n",
       "          -4.8542e-02,  3.8172e-02, -2.3495e-03,  3.3012e-02, -7.6739e-02,\n",
       "          -3.9864e-02, -5.7166e-02, -6.8751e-02,  2.9796e-02, -3.9954e-03,\n",
       "          -6.6017e-02,  9.7198e-02, -5.3751e-02,  1.0925e-02, -5.9671e-02],\n",
       "         [-8.1363e-02,  9.8660e-02, -2.1887e-02, -5.7508e-02,  9.3453e-02,\n",
       "           5.1909e-02,  6.8817e-02, -2.1546e-02, -8.0068e-02, -8.6254e-02,\n",
       "           2.7869e-02, -4.1701e-02,  3.4493e-02, -4.3755e-02,  2.5440e-02,\n",
       "          -2.9293e-03,  9.7637e-02, -4.3575e-02, -4.6906e-02, -2.2021e-02,\n",
       "          -9.6942e-02, -2.9663e-02, -3.1819e-02, -9.6411e-02, -6.7107e-02,\n",
       "          -2.7171e-02, -6.0005e-02,  4.6320e-02, -8.1470e-02,  4.7234e-02,\n",
       "           8.7537e-02, -5.3296e-02, -8.8045e-02, -1.4362e-02,  8.9338e-02,\n",
       "          -3.0712e-02, -4.8570e-02,  6.3475e-02,  3.4028e-02,  4.2555e-02,\n",
       "          -2.8103e-02, -2.3086e-02, -2.1759e-02, -1.7577e-02, -1.2285e-02,\n",
       "          -9.7175e-02,  9.8061e-02,  2.4156e-02, -8.1901e-02, -9.2195e-03,\n",
       "           4.2487e-02, -3.6068e-02,  1.0726e-02, -7.5555e-02,  4.1435e-02,\n",
       "           5.7642e-02,  1.0078e-02,  4.7895e-03, -7.4740e-02, -3.9287e-02,\n",
       "          -8.4689e-02,  2.5820e-02, -5.5011e-04, -5.8845e-02, -4.9136e-02,\n",
       "           3.4833e-02, -2.5563e-02,  1.7205e-02, -9.0086e-03, -4.9149e-02,\n",
       "          -2.1492e-03, -4.3655e-02,  9.7042e-02, -1.0504e-02, -1.0888e-02,\n",
       "          -5.1805e-02,  7.7061e-02,  8.8167e-03,  3.7013e-02,  9.4811e-03,\n",
       "           5.2666e-02,  8.6723e-02, -1.3240e-02,  8.9751e-02,  4.1110e-02,\n",
       "           1.6117e-02,  6.1328e-02,  8.8690e-02,  9.1806e-02, -4.9772e-02,\n",
       "           9.8356e-02,  3.1841e-02,  9.2125e-02,  6.2878e-03, -6.8457e-02,\n",
       "           9.0958e-02, -8.1403e-02,  1.2098e-02, -5.5683e-02, -7.8147e-02],\n",
       "         [-4.9844e-02,  8.1203e-02,  8.0302e-02,  1.7543e-02,  9.9003e-02,\n",
       "           6.9093e-02, -7.9044e-02, -4.2197e-02,  7.6352e-02,  3.2972e-02,\n",
       "           9.2008e-02,  4.1167e-02, -2.8252e-02,  5.7715e-02, -9.9210e-02,\n",
       "          -3.5910e-02, -8.0529e-03,  6.7443e-02,  3.3185e-02, -3.8054e-03,\n",
       "          -6.9207e-02, -4.8411e-02,  3.7218e-02, -3.1165e-02,  8.5314e-02,\n",
       "           6.0616e-02,  1.6794e-02,  2.9623e-03,  7.3477e-02,  7.3840e-02,\n",
       "          -6.4796e-02, -2.3566e-02, -4.0518e-02,  8.2123e-02,  6.4359e-02,\n",
       "           1.8576e-02, -1.5142e-02,  6.3071e-02,  5.1384e-03,  5.6451e-02,\n",
       "          -9.3258e-02, -9.1134e-04,  2.3162e-02, -1.2733e-02, -8.3118e-02,\n",
       "          -2.3598e-02,  7.1277e-02, -3.6007e-02, -6.9149e-03, -2.2677e-02,\n",
       "          -8.8872e-02,  9.5865e-02, -9.1533e-02, -2.2195e-02,  8.8645e-02,\n",
       "          -3.2904e-02,  7.5616e-02,  3.2882e-02,  4.5463e-04,  7.3171e-02,\n",
       "          -8.5745e-02,  6.2931e-02, -3.8972e-02, -5.9035e-02,  8.1729e-02,\n",
       "          -3.1749e-02,  4.6838e-03, -2.8466e-02,  9.5867e-02,  4.8549e-02,\n",
       "          -7.7636e-02,  9.6729e-02,  9.7051e-02,  3.8229e-02, -1.1516e-03,\n",
       "           7.8088e-02, -5.0979e-02,  6.6004e-02, -4.6633e-05,  1.1836e-02,\n",
       "           5.3886e-02, -2.3676e-02, -8.7930e-02,  3.9413e-02,  8.7713e-02,\n",
       "           5.4254e-02, -5.2619e-02,  5.9495e-02, -1.1697e-05, -2.0755e-02,\n",
       "          -3.3918e-03, -2.9221e-02,  8.3325e-02,  5.2913e-02, -5.1566e-02,\n",
       "           3.5552e-02,  5.7281e-02, -1.4585e-02, -6.5539e-02,  5.1086e-02],\n",
       "         [-6.3327e-03,  3.3614e-02,  4.8900e-02,  1.4209e-03, -7.3337e-02,\n",
       "          -7.2205e-02, -7.0032e-02,  9.8437e-02, -7.3779e-02, -5.5689e-02,\n",
       "           8.1882e-02,  1.7111e-02, -2.8471e-02,  1.0849e-02,  1.2095e-02,\n",
       "          -3.1019e-02, -9.7199e-02,  7.5860e-02, -8.5260e-02, -1.1716e-02,\n",
       "          -4.0520e-02, -7.1355e-02, -9.4221e-02,  2.5054e-02,  4.1191e-02,\n",
       "          -7.5244e-02,  1.8129e-02, -2.6505e-02, -1.0458e-02, -2.1111e-02,\n",
       "           2.6522e-02,  3.3560e-02, -2.6433e-02, -9.0410e-02,  9.7550e-02,\n",
       "          -5.7118e-02,  5.3210e-02,  1.9156e-02, -5.9146e-02, -8.9896e-02,\n",
       "          -3.7355e-02,  9.8285e-02,  8.9408e-02, -7.3038e-02, -1.6419e-03,\n",
       "          -2.9947e-02,  7.2446e-03, -8.2870e-02,  6.9889e-02, -5.6787e-04,\n",
       "           5.9395e-02, -4.5779e-02,  5.0457e-02,  8.8528e-02,  4.2999e-02,\n",
       "          -2.6085e-02, -8.8531e-03, -1.6565e-02, -1.9531e-02, -9.4503e-02,\n",
       "           8.8243e-02,  2.6646e-02, -6.8811e-02,  4.6369e-02,  5.7510e-02,\n",
       "           2.8759e-02, -5.7896e-02, -8.4539e-02,  7.4920e-02, -7.5660e-02,\n",
       "          -2.8152e-03,  3.9335e-03,  9.3918e-02, -9.0771e-02,  9.2630e-02,\n",
       "           9.7211e-02, -5.2385e-02,  7.5361e-02,  4.1663e-02, -5.3093e-02,\n",
       "          -9.0133e-03, -1.7218e-02,  7.8661e-02,  1.9600e-03, -1.3002e-02,\n",
       "           6.9937e-02, -7.8828e-02,  9.1935e-02,  5.5659e-02, -9.4037e-02,\n",
       "          -5.6021e-02, -6.3225e-03,  3.5675e-02, -3.0315e-02, -4.9976e-02,\n",
       "          -2.4904e-02,  1.5156e-02, -9.9871e-02, -9.8540e-02,  8.2845e-02]],\n",
       "        requires_grad=True),\n",
       " Parameter containing:\n",
       " tensor([-0.0419,  0.0121, -0.0505,  0.0730, -0.0445, -0.0907,  0.0850, -0.0019,\n",
       "          0.0493,  0.0526], requires_grad=True)]"
      ]
     },
     "execution_count": 28,
     "metadata": {},
     "output_type": "execute_result"
    }
   ],
   "execution_count": 28
  },
  {
   "metadata": {
    "ExecuteTime": {
     "end_time": "2025-01-15T14:38:46.863577Z",
     "start_time": "2025-01-15T14:38:46.857055Z"
    }
   },
   "cell_type": "code",
   "source": [
    "# 1. 定义损失函数 采用交叉熵损失\n",
    "loss_fct = nn.CrossEntropyLoss() #内部先做softmax，然后计算交叉熵\n",
    "# 2. 定义优化器 采用SGD\n",
    "# Optimizers specified in the torch.optim package,随机梯度下降\n",
    "optimizer = torch.optim.SGD(model.parameters(), lr=0.001, momentum=0.9)"
   ],
   "id": "432450a8ce0ea6e6",
   "outputs": [],
   "execution_count": 29
  },
  {
   "metadata": {
    "ExecuteTime": {
     "end_time": "2025-01-15T14:38:53.658402Z",
     "start_time": "2025-01-15T14:38:53.382323Z"
    }
   },
   "cell_type": "code",
   "source": [
    "from sklearn.metrics import accuracy_score\n",
    "\n",
    "@torch.no_grad() # 装饰器，禁止反向传播，节省内存\n",
    "def evaluating(model, dataloader, loss_fct):\n",
    "    loss_list = [] # 记录损失\n",
    "    pred_list = [] # 记录预测\n",
    "    label_list = [] # 记录标签\n",
    "    for datas, labels in dataloader:#10000/32=312\n",
    "        datas = datas.to(device) # 转到GPU\n",
    "        labels = labels.to(device) # 转到GPU\n",
    "        # 前向计算\n",
    "        logits = model(datas)\n",
    "        loss = loss_fct(logits, labels)         # 验证集损失,loss尺寸是一个数值\n",
    "        loss_list.append(loss.item()) # 记录损失,item是把tensor转换为数值\n",
    "        \n",
    "        preds = logits.argmax(axis=-1)    # 验证集预测,argmax返回最大值索引\n",
    "        # print(preds)\n",
    "        pred_list.extend(preds.cpu().numpy().tolist())#将PyTorch张量转换为NumPy数组。只有当张量在CPU上时，这个转换才是合法的\n",
    "        # print(preds.cpu().numpy().tolist())\n",
    "        label_list.extend(labels.cpu().numpy().tolist())\n",
    "        \n",
    "    acc = accuracy_score(label_list, pred_list) # 计算准确率\n",
    "    return np.mean(loss_list), acc"
   ],
   "id": "4665d02c2aa1422f",
   "outputs": [],
   "execution_count": 30
  },
  {
   "metadata": {
    "ExecuteTime": {
     "end_time": "2025-01-15T14:44:01.176870Z",
     "start_time": "2025-01-15T14:39:00.887960Z"
    }
   },
   "cell_type": "code",
   "source": [
    "# 训练\n",
    "def training(model, train_loader, val_loader, epoch, loss_fct, optimizer, eval_step=500):\n",
    "    record_dict = {\n",
    "        \"train\": [],\n",
    "        \"val\": []\n",
    "    }\n",
    "    \n",
    "    global_step = 0\n",
    "    model.train()\n",
    "    #tqdm是一个进度条库\n",
    "    with tqdm(total=epoch * len(train_loader)) as pbar: # 进度条 1875*20,60000/32=1875\n",
    "        for epoch_id in range(epoch): # 训练epoch次\n",
    "            # training\n",
    "            for datas, labels in train_loader: #执行次数是60000/32=1875\n",
    "                datas = datas.to(device) #datas尺寸是[batch_size,1,28,28]\n",
    "                labels = labels.to(device) #labels尺寸是[batch_size]\n",
    "                # 梯度清空\n",
    "                optimizer.zero_grad()\n",
    "                # 模型前向计算\n",
    "                logits = model(datas)\n",
    "                # 计算损失\n",
    "                loss = loss_fct(logits, labels)\n",
    "                # 梯度回传，loss.backward()会计算梯度，loss对模型参数求导\n",
    "                loss.backward()\n",
    "                # 调整优化器，包括学习率的变动等,优化器的学习率会随着训练的进行而减小，更新w,b\n",
    "                optimizer.step() #梯度是计算并存储在模型参数的 .grad 属性中，优化器使用这些存储的梯度来更新模型参数\n",
    "\n",
    "                preds = logits.argmax(axis=-1) # 训练集预测\n",
    "                acc = accuracy_score(labels.cpu().numpy(), preds.cpu().numpy())   # 计算准确率，numpy可以\n",
    "                loss = loss.cpu().item() # 损失转到CPU，item()取值,一个数值\n",
    "                # record\n",
    "                \n",
    "                record_dict[\"train\"].append({\n",
    "                    \"loss\": loss, \"acc\": acc, \"step\": global_step\n",
    "                }) # 记录训练集信息，每一步的损失，准确率，步数\n",
    "                \n",
    "                # evaluating\n",
    "                if global_step % eval_step == 0:\n",
    "                    model.eval() # 进入评估模式\n",
    "                    val_loss, val_acc = evaluating(model, val_loader, loss_fct)\n",
    "                    record_dict[\"val\"].append({\n",
    "                        \"loss\": val_loss, \"acc\": val_acc, \"step\": global_step\n",
    "                    })\n",
    "                    model.train() # 进入训练模式\n",
    "\n",
    "                # udate step\n",
    "                global_step += 1 # 全局步数加1\n",
    "                pbar.update(1) # 更新进度条\n",
    "                pbar.set_postfix({\"epoch\": epoch_id}) # 设置进度条显示信息\n",
    "        \n",
    "    return record_dict\n",
    "        \n",
    "\n",
    "epoch = 20 #改为40\n",
    "model = model.to(device)\n",
    "record = training(model, train_loader, val_loader, epoch, loss_fct, optimizer, eval_step=1000)"
   ],
   "id": "97a4f803b2a3ef4b",
   "outputs": [
    {
     "data": {
      "text/plain": [
       "  0%|          | 0/37500 [00:00<?, ?it/s]"
      ],
      "application/vnd.jupyter.widget-view+json": {
       "version_major": 2,
       "version_minor": 0,
       "model_id": "1bd546258b51443ca24facb2c3798141"
      }
     },
     "metadata": {},
     "output_type": "display_data"
    }
   ],
   "execution_count": 31
  },
  {
   "metadata": {
    "ExecuteTime": {
     "end_time": "2025-01-15T14:46:43.304467Z",
     "start_time": "2025-01-15T14:46:43.298708Z"
    }
   },
   "cell_type": "code",
   "source": "record[\"train\"][-5:]",
   "id": "52b692402f0ba6b",
   "outputs": [
    {
     "data": {
      "text/plain": [
       "[{'loss': 0.21528953313827515, 'acc': 0.9375, 'step': 37495},\n",
       " {'loss': 0.3436088562011719, 'acc': 0.875, 'step': 37496},\n",
       " {'loss': 0.29027968645095825, 'acc': 0.9375, 'step': 37497},\n",
       " {'loss': 0.062453411519527435, 'acc': 1.0, 'step': 37498},\n",
       " {'loss': 0.18249544501304626, 'acc': 0.9375, 'step': 37499}]"
      ]
     },
     "execution_count": 32,
     "metadata": {},
     "output_type": "execute_result"
    }
   ],
   "execution_count": 32
  },
  {
   "metadata": {
    "ExecuteTime": {
     "end_time": "2025-01-15T14:46:52.361728Z",
     "start_time": "2025-01-15T14:46:52.356600Z"
    }
   },
   "cell_type": "code",
   "source": "record[\"val\"][-5:]",
   "id": "dab1a972c98504c0",
   "outputs": [
    {
     "data": {
      "text/plain": [
       "[{'loss': np.float64(0.368290960348357), 'acc': 0.8699, 'step': 33000},\n",
       " {'loss': np.float64(0.3644378953657973), 'acc': 0.8704, 'step': 34000},\n",
       " {'loss': np.float64(0.35075324847580147), 'acc': 0.875, 'step': 35000},\n",
       " {'loss': np.float64(0.35615632578302114), 'acc': 0.8732, 'step': 36000},\n",
       " {'loss': np.float64(0.3549244820405119), 'acc': 0.8733, 'step': 37000}]"
      ]
     },
     "execution_count": 33,
     "metadata": {},
     "output_type": "execute_result"
    }
   ],
   "execution_count": 33
  },
  {
   "metadata": {
    "ExecuteTime": {
     "end_time": "2025-01-15T14:51:52.850830Z",
     "start_time": "2025-01-15T14:51:52.624631Z"
    }
   },
   "cell_type": "code",
   "source": [
    "#画线要注意的是损失是不一定在零到1之间的\n",
    "def plot_learning_curves(record_dict, sample_step=1000):\n",
    "    # build DataFrame\n",
    "    train_df = pd.DataFrame(record_dict[\"train\"]).set_index(\"step\").iloc[::sample_step]\n",
    "    val_df = pd.DataFrame(record_dict[\"val\"]).set_index(\"step\")\n",
    "    last_step = train_df.index[-1] # 最后一步的步数\n",
    "    # print(train_df.columns)\n",
    "    print(train_df['acc'])\n",
    "    print(val_df['acc'])\n",
    "    # plot\n",
    "    fig_num = len(train_df.columns) # 画几张图,分别是损失和准确率\n",
    "    fig, axs = plt.subplots(1, fig_num, figsize=(5 * fig_num, 5))\n",
    "    for idx, item in enumerate(train_df.columns):\n",
    "        # print(train_df[item].values)\n",
    "        axs[idx].plot(train_df.index, train_df[item], label=f\"train_{item}\")\n",
    "        axs[idx].plot(val_df.index, val_df[item], label=f\"val_{item}\")\n",
    "        axs[idx].grid() # 显示网格\n",
    "        axs[idx].legend() # 显示图例\n",
    "        axs[idx].set_xticks(range(0, train_df.index[-1], 5000)) # 设置x轴刻度\n",
    "        axs[idx].set_xticklabels(map(lambda x: f\"{int(x/1000)}k\", range(0, last_step, 5000))) # 设置x轴标签\n",
    "        axs[idx].set_xlabel(\"step\")\n",
    "    \n",
    "    plt.show()\n",
    "\n",
    "plot_learning_curves(record)  #横坐标是 steps"
   ],
   "id": "79a4b0c64a8a9aad",
   "outputs": [
    {
     "name": "stdout",
     "output_type": "stream",
     "text": [
      "step\n",
      "0        0.15625\n",
      "1000     0.65625\n",
      "2000     0.84375\n",
      "3000     0.75000\n",
      "4000     0.78125\n",
      "5000     0.87500\n",
      "6000     0.93750\n",
      "7000     0.75000\n",
      "8000     0.90625\n",
      "9000     0.87500\n",
      "10000    0.87500\n",
      "11000    0.87500\n",
      "12000    0.87500\n",
      "13000    0.87500\n",
      "14000    0.93750\n",
      "15000    0.90625\n",
      "16000    0.90625\n",
      "17000    0.96875\n",
      "18000    0.84375\n",
      "19000    0.93750\n",
      "20000    0.87500\n",
      "21000    0.96875\n",
      "22000    0.81250\n",
      "23000    0.93750\n",
      "24000    0.96875\n",
      "25000    0.87500\n",
      "26000    0.93750\n",
      "27000    0.87500\n",
      "28000    0.93750\n",
      "29000    1.00000\n",
      "30000    0.93750\n",
      "31000    0.93750\n",
      "32000    1.00000\n",
      "33000    0.87500\n",
      "34000    0.93750\n",
      "35000    0.96875\n",
      "36000    0.87500\n",
      "37000    0.90625\n",
      "Name: acc, dtype: float64\n",
      "step\n",
      "0        0.0684\n",
      "1000     0.6789\n",
      "2000     0.7590\n",
      "3000     0.7995\n",
      "4000     0.7952\n",
      "5000     0.8200\n",
      "6000     0.8262\n",
      "7000     0.8279\n",
      "8000     0.8360\n",
      "9000     0.8349\n",
      "10000    0.8387\n",
      "11000    0.8387\n",
      "12000    0.8450\n",
      "13000    0.8432\n",
      "14000    0.8485\n",
      "15000    0.8493\n",
      "16000    0.8531\n",
      "17000    0.8518\n",
      "18000    0.8556\n",
      "19000    0.8547\n",
      "20000    0.8585\n",
      "21000    0.8564\n",
      "22000    0.8572\n",
      "23000    0.8619\n",
      "24000    0.8617\n",
      "25000    0.8569\n",
      "26000    0.8668\n",
      "27000    0.8665\n",
      "28000    0.8658\n",
      "29000    0.8632\n",
      "30000    0.8658\n",
      "31000    0.8702\n",
      "32000    0.8712\n",
      "33000    0.8699\n",
      "34000    0.8704\n",
      "35000    0.8750\n",
      "36000    0.8732\n",
      "37000    0.8733\n",
      "Name: acc, dtype: float64\n"
     ]
    },
    {
     "data": {
      "text/plain": [
       "<Figure size 1000x500 with 2 Axes>"
      ],
      "image/png": "[encoded data removed]"
     },
     "metadata": {},
     "output_type": "display_data"
    }
   ],
   "execution_count": 34
  },
  {
   "metadata": {
    "ExecuteTime": {
     "end_time": "2025-01-15T14:55:37.622247Z",
     "start_time": "2025-01-15T14:55:35.779290Z"
    }
   },
   "cell_type": "code",
   "source": [
    "# dataload for evaluating\n",
    "\n",
    "model.eval() # 进入评估模式\n",
    "loss, acc = evaluating(model, val_loader, loss_fct)\n",
    "print(f\"loss:     {loss:.4f}\\naccuracy: {acc:.4f}\")"
   ],
   "id": "3d2c414ffd8bba3f",
   "outputs": [
    {
     "name": "stdout",
     "output_type": "stream",
     "text": [
      "loss:     0.3499\n",
      "accuracy: 0.8741\n"
     ]
    }
   ],
   "execution_count": 35
  }
 ],
 "metadata": {
  "kernelspec": {
   "display_name": "Python 3",
   "language": "python",
   "name": "python3"
  },
  "language_info": {
   "codemirror_mode": {
    "name": "ipython",
    "version": 2
   },
   "file_extension": ".py",
   "mimetype": "text/x-python",
   "name": "python",
   "nbconvert_exporter": "python",
   "pygments_lexer": "ipython2",
   "version": "2.7.6"
  }
 },
 "nbformat": 4,
 "nbformat_minor": 5
}
